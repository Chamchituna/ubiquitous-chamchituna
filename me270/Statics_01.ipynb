{
  "cells": [
    {
      "cell_type": "code",
      "execution_count": 68,
      "metadata": {
        "tags": [
          "hide-input",
          "hide-output"
        ],
        "id": "pxtjStsNz9rm"
      },
      "outputs": [],
      "source": [
        "import numpy as np\n",
        "import matplotlib.pyplot as plt\n",
        "%matplotlib inline\n",
        "import matplotlib_inline\n",
        "matplotlib_inline.backend_inline.set_matplotlib_formats('svg')\n",
        "import seaborn as sns\n",
        "sns.set_context(\"paper\")\n",
        "sns.set_style(\"ticks\");"
      ]
    },
    {
      "cell_type": "markdown",
      "metadata": {
        "id": "bAWUQ3WVz9rn"
      },
      "source": [
        "# ME 270 - Activity 1 - Shear Force and Bending Moment Diagrams\n",
        "\n",
        "In this activity, we will provide a basic introduction to Python programming motivated by the goal of plotting shear-force and bending-moment diagrams.\n",
        "\n",
        "We see here below a beam with an applied load and an applied moment at some arbitrary points.\n",
        "\n",
        "<figure>\n",
        " <img src=\"https://raw.githubusercontent.com/ebilionis/core-me-data-science-activities-public/refs/heads/main/images/Statics1_beam.png\" width=\"700\" height=\"300\">\n",
        "</figure>\n",
        "\n",
        "We will calculate the shear force and bending moment at different points along the beam and plot the diagrams.\n"
      ]
    },
    {
      "cell_type": "markdown",
      "metadata": {
        "id": "Sw6_kvuKz9ro"
      },
      "source": [
        "### Question 1 - Basic Python Syntax\n",
        "\n",
        "Let's first review some basic Python syntax, starting with variable assignment. It is always good practice to assign variables and not hard-code values in your calculations. It is also good practice to use meaningful variable names and comments to explain the purpose of the variable and the units of the value."
      ]
    },
    {
      "cell_type": "code",
      "execution_count": 69,
      "metadata": {
        "id": "6_IlkLxsz9ro"
      },
      "outputs": [],
      "source": [
        "# Dimension of beam AD\n",
        "d_ab = 6 # m\n",
        "d_bc = 3.0 # m\n",
        "d_cd = 6.0 # m"
      ]
    },
    {
      "cell_type": "markdown",
      "metadata": {
        "id": "ewtZEhQGz9ro"
      },
      "source": [
        "Exploring variable types and operations is also important. Types are implicit in Python, but you can always check the type of a variable using the `type()` function."
      ]
    },
    {
      "cell_type": "code",
      "execution_count": 70,
      "metadata": {
        "colab": {
          "base_uri": "https://localhost:8080/",
          "height": 0
        },
        "id": "b-oHtRX0z9ro",
        "outputId": "4e178803-ade1-4401-c858-0604d2e4fced"
      },
      "outputs": [
        {
          "output_type": "execute_result",
          "data": {
            "text/plain": [
              "int"
            ]
          },
          "metadata": {},
          "execution_count": 70
        }
      ],
      "source": [
        "type(d_ab)"
      ]
    },
    {
      "cell_type": "code",
      "execution_count": 71,
      "metadata": {
        "colab": {
          "base_uri": "https://localhost:8080/",
          "height": 0
        },
        "id": "liYSn_AFz9ro",
        "outputId": "ca5a471e-5470-4f57-e87d-70e5660f7522"
      },
      "outputs": [
        {
          "output_type": "execute_result",
          "data": {
            "text/plain": [
              "float"
            ]
          },
          "metadata": {},
          "execution_count": 71
        }
      ],
      "source": [
        "type(d_bc)"
      ]
    },
    {
      "cell_type": "code",
      "execution_count": 72,
      "metadata": {
        "colab": {
          "base_uri": "https://localhost:8080/",
          "height": 0
        },
        "id": "mWIJDcoAz9ro",
        "outputId": "6df33746-01e1-4297-ef4f-382d04fa6721"
      },
      "outputs": [
        {
          "output_type": "execute_result",
          "data": {
            "text/plain": [
              "float"
            ]
          },
          "metadata": {},
          "execution_count": 72
        }
      ],
      "source": [
        "type(d_cd)"
      ]
    },
    {
      "cell_type": "markdown",
      "metadata": {
        "id": "AhEdlYKAz9rp"
      },
      "source": [
        "Do you see why `d_ab` is an integer and `d_cd` is a float? When we assigned the value of `d_ab` we use did not use a decimal point, so Python interprets it as an integer. When we assigned the value of `d_cd` we used a decimal point, so Python interprets it as a float. We can also convert between types using the `int()` and `float()` functions."
      ]
    },
    {
      "cell_type": "code",
      "execution_count": 73,
      "metadata": {
        "colab": {
          "base_uri": "https://localhost:8080/",
          "height": 0
        },
        "id": "juun2TpNz9rp",
        "outputId": "020011cd-c08f-4554-9672-42917bd5b096"
      },
      "outputs": [
        {
          "output_type": "execute_result",
          "data": {
            "text/plain": [
              "int"
            ]
          },
          "metadata": {},
          "execution_count": 73
        }
      ],
      "source": [
        "d_cd = int(d_cd)\n",
        "type(d_cd)"
      ]
    },
    {
      "cell_type": "markdown",
      "metadata": {
        "id": "ZkdhX8TTz9rp"
      },
      "source": [
        "Understanding the types of variables is important because it determines how they can be used in calculations. Let's add up our three segment lengths to find the total length of the beam."
      ]
    },
    {
      "cell_type": "code",
      "execution_count": 74,
      "metadata": {
        "colab": {
          "base_uri": "https://localhost:8080/",
          "height": 0
        },
        "id": "ORf22Enfz9rp",
        "outputId": "144a17b7-c505-4a2a-bb68-f0a3d9a17997"
      },
      "outputs": [
        {
          "output_type": "execute_result",
          "data": {
            "text/plain": [
              "float"
            ]
          },
          "metadata": {},
          "execution_count": 74
        }
      ],
      "source": [
        "L = d_ab + d_bc + d_cd\n",
        "type(L)"
      ]
    },
    {
      "cell_type": "markdown",
      "metadata": {
        "id": "zj_JpSdoz9rp"
      },
      "source": [
        "So what is happening here is that the integer `d_ab` is being added to the float `d_cd` and the result is a float. This is because Python will always convert the integer to a float when adding it to a float.\n",
        "\n",
        "Other operations like subtraction, multiplication, division, and exponentiation work similarly. Let me show you the python syntax for these operations."
      ]
    },
    {
      "cell_type": "code",
      "execution_count": 75,
      "metadata": {
        "colab": {
          "base_uri": "https://localhost:8080/",
          "height": 0
        },
        "id": "xEiZJrAIz9rp",
        "outputId": "e844f665-2243-40d9-e23e-c82472beda9f"
      },
      "outputs": [
        {
          "output_type": "execute_result",
          "data": {
            "text/plain": [
              "3.0"
            ]
          },
          "metadata": {},
          "execution_count": 75
        }
      ],
      "source": [
        "x = 5.0 - 2\n",
        "x"
      ]
    },
    {
      "cell_type": "code",
      "execution_count": 76,
      "metadata": {
        "colab": {
          "base_uri": "https://localhost:8080/",
          "height": 0
        },
        "id": "ENk5nmbXz9rp",
        "outputId": "76722e79-5940-4d3c-c2bb-92edb60d6608"
      },
      "outputs": [
        {
          "output_type": "execute_result",
          "data": {
            "text/plain": [
              "6.0"
            ]
          },
          "metadata": {},
          "execution_count": 76
        }
      ],
      "source": [
        "y = 2 * 3.0\n",
        "y"
      ]
    },
    {
      "cell_type": "code",
      "execution_count": 77,
      "metadata": {
        "colab": {
          "base_uri": "https://localhost:8080/",
          "height": 0
        },
        "id": "NJB6o7Ccz9rp",
        "outputId": "35d63c82-2c62-4baf-8171-55ac96b2bc1a"
      },
      "outputs": [
        {
          "output_type": "execute_result",
          "data": {
            "text/plain": [
              "2.5"
            ]
          },
          "metadata": {},
          "execution_count": 77
        }
      ],
      "source": [
        "z = 5.0 / 2\n",
        "z"
      ]
    },
    {
      "cell_type": "markdown",
      "metadata": {
        "id": "85SxfAHwz9rp"
      },
      "source": [
        "Note that the `**` operator is used for exponentiation in Python. Not the `^` operator as in some other programming languages. The `^` operator is used for bitwise XOR in Python."
      ]
    },
    {
      "cell_type": "code",
      "execution_count": 78,
      "metadata": {
        "colab": {
          "base_uri": "https://localhost:8080/",
          "height": 0
        },
        "id": "qCkuS7Goz9rp",
        "outputId": "2cfaba47-a1e8-4c1c-ab53-8a92e81f48e2"
      },
      "outputs": [
        {
          "output_type": "execute_result",
          "data": {
            "text/plain": [
              "8.0"
            ]
          },
          "metadata": {},
          "execution_count": 78
        }
      ],
      "source": [
        "a = 2. ** 3\n",
        "a"
      ]
    },
    {
      "cell_type": "markdown",
      "metadata": {
        "id": "5x5xTm5cz9rp"
      },
      "source": [
        "Let's use some of the operations that we learned to do some calculations about our beam. Let's start with a moment calculation. We know that in equilibrium, the sum of the moments about any point must be zero. Let's calculate the moment about point A.\n",
        "\n",
        "$$\n",
        "\\sum M = 0\n",
        "$$\n",
        "\n",
        "$$\n",
        "\\sum M = M_c - (F_b)(d_{ab}) + (B_y)(L)\n",
        "$$\n",
        "\n",
        "Where we have some known applied moment $M_c$, a known applied force $F_b$, and we can calculate the reaction force $B_y$.\n",
        "\n",
        "Let's rearrange for $B_y$\n",
        "\n",
        "$$\n",
        "B_y = \\frac{F_b d_{ab} - M_c}{L}\n",
        "$$\n",
        "\n",
        "Let me assign some values to these variables and calculate the reaction force $B_y$."
      ]
    },
    {
      "cell_type": "code",
      "execution_count": 79,
      "metadata": {
        "colab": {
          "base_uri": "https://localhost:8080/",
          "height": 0
        },
        "id": "zdXINepXz9rp",
        "outputId": "272d0445-8587-4a63-d689-1c5117cc2c4a"
      },
      "outputs": [
        {
          "output_type": "execute_result",
          "data": {
            "text/plain": [
              "2.0"
            ]
          },
          "metadata": {},
          "execution_count": 79
        }
      ],
      "source": [
        "# Applied force at point B\n",
        "F_b = 10.0 # kN\n",
        "\n",
        "# Applied moment at point C\n",
        "M_c = 30.0 # kN*m\n",
        "\n",
        "# Solve for the reaction force By\n",
        "B_y = (F_b * d_ab - M_c) / L\n",
        "B_y"
      ]
    },
    {
      "cell_type": "markdown",
      "metadata": {
        "id": "W9q8yMB9z9rp"
      },
      "source": [
        "Now, we have done this calculation, I want to see the value of the reaction force $B_y$. Let's look at a nicer way to print the value of a variable using the `print()` function."
      ]
    },
    {
      "cell_type": "code",
      "execution_count": 80,
      "metadata": {
        "colab": {
          "base_uri": "https://localhost:8080/",
          "height": 0
        },
        "id": "FdpNy2SJz9rp",
        "outputId": "dc1d5fe0-0b24-4110-da6f-b76455fa787e"
      },
      "outputs": [
        {
          "output_type": "stream",
          "name": "stdout",
          "text": [
            "The y component reaction force at point B = 2.00 kN\n"
          ]
        }
      ],
      "source": [
        "print(f\"The y component reaction force at point B = {B_y:.2f} kN\")"
      ]
    },
    {
      "cell_type": "markdown",
      "metadata": {
        "id": "AB-AOJvvz9rp"
      },
      "source": [
        "Notice all of the different ways we can format the output. The `f-string` method is the most modern and most readable. You are maintaining the flexibility, not hard-coding the variable name, and you can format the output to a specific number of decimal places, given by the number after the colon. Let me show you how we can change the output to different decimal places."
      ]
    },
    {
      "cell_type": "code",
      "execution_count": 81,
      "metadata": {
        "colab": {
          "base_uri": "https://localhost:8080/",
          "height": 0
        },
        "id": "vromwWIOz9rp",
        "outputId": "c95267e4-3694-4f6d-ea0f-2675a5ba1549"
      },
      "outputs": [
        {
          "output_type": "stream",
          "name": "stdout",
          "text": [
            "The y component reaction force at point B = 2.00000 kN\n"
          ]
        }
      ],
      "source": [
        "print(f\"The y component reaction force at point B = {B_y:.5f} kN\")"
      ]
    },
    {
      "cell_type": "markdown",
      "metadata": {
        "id": "3KiIIU8uz9rp"
      },
      "source": [
        "Or using scientific notation."
      ]
    },
    {
      "cell_type": "code",
      "execution_count": 82,
      "metadata": {
        "colab": {
          "base_uri": "https://localhost:8080/",
          "height": 0
        },
        "id": "3lM6LCAMz9rq",
        "outputId": "fa8ce44c-add3-42c1-aaf4-4b92a3bcf881"
      },
      "outputs": [
        {
          "output_type": "stream",
          "name": "stdout",
          "text": [
            "The y component reaction force at point B = 2.00e+00 kN\n"
          ]
        }
      ],
      "source": [
        "print(f\"The y component reaction force at point B = {B_y:.2e} kN\")"
      ]
    },
    {
      "cell_type": "markdown",
      "metadata": {
        "id": "-3g00sxoz9rq"
      },
      "source": [
        "Now I want you do use what we have learned to calculate the reaction force $A_y$.\n",
        "\n",
        "Print out the value to 2 decimal places, also print out the type of the variable using the print function."
      ]
    },
    {
      "cell_type": "code",
      "execution_count": 83,
      "metadata": {
        "colab": {
          "base_uri": "https://localhost:8080/",
          "height": 0
        },
        "id": "KJX5fP0mz9rq",
        "outputId": "5ab7dccf-0a42-431e-f085-0d2153d8ef37"
      },
      "outputs": [
        {
          "output_type": "stream",
          "name": "stdout",
          "text": [
            "The reaction force Ay = 8.00 kN\n",
            "The type of Ay is <class 'float'>\n"
          ]
        }
      ],
      "source": [
        "# YOUR CODE HERE\n",
        "A_y = F_b - B_y\n",
        "print(f\"The reaction force Ay = {A_y:.2f} kN\")\n",
        "print(f\"The type of Ay is {type(A_y)}\")\n"
      ]
    },
    {
      "cell_type": "markdown",
      "metadata": {
        "id": "tDD6SMa9z9rq"
      },
      "source": [
        "### Question 2 - Data Structures\n",
        "\n",
        "We will need to organize our data in a way that makes it easy to calculate the shear force and bending moment at different points along the beam. Let's start reviewing some basic data structures in Python.\n",
        "\n",
        "Tuples are ordered collections of elements that are immutable. This means that once you create a tuple, you cannot change the elements inside it. You can access elements of a tuple using indexing, slicing, or unpacking.\n",
        "\n",
        "Let's make a tuples of our distances."
      ]
    },
    {
      "cell_type": "code",
      "execution_count": 84,
      "metadata": {
        "colab": {
          "base_uri": "https://localhost:8080/",
          "height": 0
        },
        "id": "O6hLApuCz9rq",
        "outputId": "a38d2afa-9c1c-4091-c615-2fdd60a74105"
      },
      "outputs": [
        {
          "output_type": "execute_result",
          "data": {
            "text/plain": [
              "tuple"
            ]
          },
          "metadata": {},
          "execution_count": 84
        }
      ],
      "source": [
        "# Construct a tuple of the distances\n",
        "ds = (d_ab, d_bc, d_cd)\n",
        "type(ds)"
      ]
    },
    {
      "cell_type": "markdown",
      "metadata": {
        "id": "_3NQyG3Lz9rq"
      },
      "source": [
        "We can recover an element from the tuple using indexing. Remember that Python indexing starts at 0."
      ]
    },
    {
      "cell_type": "code",
      "execution_count": 85,
      "metadata": {
        "colab": {
          "base_uri": "https://localhost:8080/",
          "height": 0
        },
        "id": "bSqiC8Lwz9rq",
        "outputId": "b0ddee3c-baa4-489d-9aea-a2dc86bb9bfc"
      },
      "outputs": [
        {
          "output_type": "stream",
          "name": "stdout",
          "text": [
            "The first element of ds is 6\n"
          ]
        }
      ],
      "source": [
        "d = ds[0]\n",
        "print(f'The first element of ds is {d}')"
      ]
    },
    {
      "cell_type": "markdown",
      "metadata": {
        "id": "LyUAFxr7z9rq"
      },
      "source": [
        "Let me show you what I mean by tuples being immutable. Let's try to change the value of the first element of the tuple."
      ]
    },
    {
      "cell_type": "code",
      "execution_count": 86,
      "metadata": {
        "colab": {
          "base_uri": "https://localhost:8080/",
          "height": 0
        },
        "id": "ppLKhq3bz9rq",
        "outputId": "8534f2cd-decc-4a2f-e5dc-13e9805d8cb1"
      },
      "outputs": [
        {
          "output_type": "stream",
          "name": "stdout",
          "text": [
            "TypeError: 'tuple' object does not support item assignment\n"
          ]
        }
      ],
      "source": [
        "# Modify the first element of ds\n",
        "new_d = 10.0 # m\n",
        "\n",
        "# Attempt to modify the first element of ds\n",
        "try:\n",
        "    ds[0] = new_d\n",
        "except TypeError as e:\n",
        "    print(f\"TypeError: {e}\")"
      ]
    },
    {
      "cell_type": "markdown",
      "metadata": {
        "id": "2IXhcgwyz9rq"
      },
      "source": [
        "If we want to change the value of an element in a collection, we should use a list. Lists are ordered collections of elements that are mutable. We use a `[]` to form lists rather than the `()` that we use to form tuples. This means that you can change the elements inside a list. You can access elements of a list using indexing, slicing, or unpacking."
      ]
    },
    {
      "cell_type": "code",
      "execution_count": 87,
      "metadata": {
        "colab": {
          "base_uri": "https://localhost:8080/",
          "height": 0
        },
        "id": "s3Rt4x8Tz9rq",
        "outputId": "0fe30cbe-8bee-4719-b716-48ce2e144130"
      },
      "outputs": [
        {
          "output_type": "execute_result",
          "data": {
            "text/plain": [
              "list"
            ]
          },
          "metadata": {},
          "execution_count": 87
        }
      ],
      "source": [
        "# Construct a list of the distances\n",
        "ds = [d_ab, d_bc, d_cd]\n",
        "type(ds)"
      ]
    },
    {
      "cell_type": "markdown",
      "metadata": {
        "id": "Cy0PsDwrz9rq"
      },
      "source": [
        "Here, we can easily change and element of the list. Just to show you some other ways to index a list, let's change the last element of the list."
      ]
    },
    {
      "cell_type": "code",
      "execution_count": 88,
      "metadata": {
        "colab": {
          "base_uri": "https://localhost:8080/",
          "height": 0
        },
        "id": "l4ptuUyBz9rq",
        "outputId": "4b9d42d7-8411-4900-a5b7-c37fa5f7cc2d"
      },
      "outputs": [
        {
          "output_type": "stream",
          "name": "stdout",
          "text": [
            "The modified list of distances is [6, 3.0, 10.0]\n"
          ]
        }
      ],
      "source": [
        "# Create the new distance\n",
        "new_d = 10.0 # m\n",
        "\n",
        "# Modify the last element of ds\n",
        "ds[-1] = new_d\n",
        "print(f'The modified list of distances is {ds}')"
      ]
    },
    {
      "cell_type": "markdown",
      "metadata": {
        "id": "HzpS3343z9rq"
      },
      "source": [
        "The last basic data structure we will review is the dictionary. Dictionaries are unordered collections of key-value pairs. You can access the value of a key using indexing. Let's create a dictionary of the distances and applied loads on the beam. We create a dictionary using `{}` and separate the key-value pairs with a `:`. So the strings in the dictionary are the keys and the values are the numbers."
      ]
    },
    {
      "cell_type": "code",
      "execution_count": 89,
      "metadata": {
        "id": "1blSpA52z9rt"
      },
      "outputs": [],
      "source": [
        "# Create a dictionary of the beam properties\n",
        "beam = {'d_ab': 6.0, 'd_bc': 3.0, 'd_cd': 6.0, 'F_b': 10.0, 'M_c': 30.0}"
      ]
    },
    {
      "cell_type": "markdown",
      "metadata": {
        "id": "w8hrrxmoz9rt"
      },
      "source": [
        "We can access a value in the dictionary using the key."
      ]
    },
    {
      "cell_type": "code",
      "execution_count": 90,
      "metadata": {
        "colab": {
          "base_uri": "https://localhost:8080/",
          "height": 0
        },
        "id": "H1geb8Quz9rt",
        "outputId": "29b916ef-ce04-4bbb-e104-bf64e6cb2397"
      },
      "outputs": [
        {
          "output_type": "stream",
          "name": "stdout",
          "text": [
            "The applied force at point B is 10.0 kN\n"
          ]
        }
      ],
      "source": [
        "# Access the value of the applied force at point B\n",
        "F_b = beam['F_b']\n",
        "print(f'The applied force at point B is {F_b} kN')"
      ]
    },
    {
      "cell_type": "markdown",
      "metadata": {
        "id": "lyhdhR3Nz9rt"
      },
      "source": [
        "These structures are very useful for organizing data and can be nested inside each other to create more complex data structures. Let's create a dictionary with a tuple of the distances and a list of the applied loads, and a dictionary of the reaction forces."
      ]
    },
    {
      "cell_type": "code",
      "execution_count": 91,
      "metadata": {
        "colab": {
          "base_uri": "https://localhost:8080/",
          "height": 0
        },
        "id": "8OeMhhTjz9rt",
        "outputId": "ac8d72cd-8850-41b7-9722-0b31ea150d8d"
      },
      "outputs": [
        {
          "output_type": "stream",
          "name": "stdout",
          "text": [
            "The reaction force at point A is 8.0 kN\n"
          ]
        }
      ],
      "source": [
        "# Create a nested dictionary of the beam properties\n",
        "beam = {'distances': ds, 'applied': [F_b, M_c], 'reactions': {'A_y': A_y, 'B_y': B_y}}\n",
        "\n",
        "# Access the value of the reaction force at point A\n",
        "A_y = beam['reactions']['A_y']\n",
        "print(f'The reaction force at point A is {A_y} kN')"
      ]
    },
    {
      "cell_type": "markdown",
      "metadata": {
        "id": "9wLt8lHnz9rt"
      },
      "source": [
        "I want you to create a nested dictionary with the courses that you are taking this semester. This should include the course name, the instructor's name, and how much you are liking it on a scale of 1 to 10. Then I want you to extract the course numbers and print the sum."
      ]
    },
    {
      "cell_type": "code",
      "execution_count": 92,
      "metadata": {
        "colab": {
          "base_uri": "https://localhost:8080/",
          "height": 0
        },
        "id": "NNSsN2szz9rt",
        "outputId": "5866faa0-ed1a-46f6-c597-0abf2ce51f59"
      },
      "outputs": [
        {
          "output_type": "stream",
          "name": "stdout",
          "text": [
            "Course numbers: [27000, 26100, 24100, 20001, 20007, 20000, 29000]\n",
            "Sum of course numbers: 166208\n"
          ]
        }
      ],
      "source": [
        "# YOUR CODE HERE\n",
        "courses = {\n",
        "    \"ME27000\": {\"name\": \"Statics\", \"instructor\": \"Prof. Jones\", \"rating\": 10},\n",
        "    \"MA26100\": {\"name\": \"Multivariate Calculus\", \"instructor\": \"Prof. Mummert\", \"rating\": 7},\n",
        "    \"PHYS24100\": {\"name\": \"Electricity and Magnetism\", \"instructor\": \"Prof. Urba\", \"rating\": 6},\n",
        "    \"ECE20001\": {\"name\": \"Electrical Engineering Fundamentals I\", \"instructor\": \"Prof. Qi\", \"rating\": 10},\n",
        "    \"ECE20007\": {\"name\": \"Electrical Engineering Fundamentals I Lab\", \"instructor\": \"Shaju\", \"rating\": 5},\n",
        "    \"ME20000\": {\"name\": \"Thermodynamics\", \"instructor\": \"Schwartz\", \"rating\": 8},\n",
        "    \"ME29000\": {\"name\": \"ME Seminar\", \"instructor\": \"Prof. Hess\", \"rating\": 10},\n",
        "\n",
        "}\n",
        "\n",
        "course_numbers = []\n",
        "\n",
        "for course_code in courses.keys():\n",
        "    number = int(''.join(filter(str.isdigit, course_code)))\n",
        "    course_numbers.append(number)\n",
        "\n",
        "total = sum(course_numbers)\n",
        "\n",
        "print(f\"Course numbers: {course_numbers}\")\n",
        "print(f\"Sum of course numbers: {total}\")\n"
      ]
    },
    {
      "cell_type": "markdown",
      "metadata": {
        "id": "YyHJpEUfz9rt"
      },
      "source": [
        "### Question 3 - Control Structures\n",
        "\n",
        "For loops, conditional statements, and functions are the basic control structures in Python. Let's start with for loops. For loops are used to iterate over a sequence of elements. You can use a for loop to iterate over a list, tuple, or dictionary.\n",
        "\n",
        "Let's iterate over the distances tuple and convert it to different units."
      ]
    },
    {
      "cell_type": "code",
      "execution_count": 93,
      "metadata": {
        "colab": {
          "base_uri": "https://localhost:8080/",
          "height": 0
        },
        "id": "YPphT_idz9rt",
        "outputId": "56776f03-6a80-4525-c161-74573a8b562e"
      },
      "outputs": [
        {
          "output_type": "stream",
          "name": "stdout",
          "text": [
            "The distances in cm are [600, 300.0, 1000.0]\n"
          ]
        }
      ],
      "source": [
        "# Initalize a list to store the distances in cm\n",
        "ds_cm = []\n",
        "\n",
        "# Iterate over each distance in the list\n",
        "for d in ds:\n",
        "    ds_cm.append(d * 100)\n",
        "\n",
        "print(f'The distances in cm are {ds_cm}')"
      ]
    },
    {
      "cell_type": "markdown",
      "metadata": {
        "id": "tB-fvk8Gz9rt"
      },
      "source": [
        "Python has in-line for loops called list comprehensions. These are a more concise way to write for loops. Let's convert the distances tuple to a list using a list comprehension. Writing code like this is more \"Pythonic\" and is generally preferred."
      ]
    },
    {
      "cell_type": "code",
      "execution_count": 94,
      "metadata": {
        "id": "E5Rl87wWz9rt"
      },
      "outputs": [],
      "source": [
        "# Create a list comprehension to convert the distances to cm\n",
        "ds_cm = [d * 100 for d in ds]"
      ]
    },
    {
      "cell_type": "markdown",
      "metadata": {
        "id": "cKSCPwcNz9rt"
      },
      "source": [
        "Let's integrate loops with conditional statements. Conditional statements are used to execute different blocks of code based on the truth value of a condition. The basic conditional statements in Python are `if`, `elif`, and `else`."
      ]
    },
    {
      "cell_type": "code",
      "execution_count": 95,
      "metadata": {
        "colab": {
          "base_uri": "https://localhost:8080/",
          "height": 0
        },
        "id": "9uH4co0oz9rt",
        "outputId": "df623c49-4b9c-47fc-d799-9889ca54b261"
      },
      "outputs": [
        {
          "output_type": "stream",
          "name": "stdout",
          "text": [
            "The distances are [6, 3.0, 10.0]\n",
            "The applied forces are [10.0, 30.0]\n",
            "The reaction forces are {'A_y': 8.0, 'B_y': 2.0}\n"
          ]
        }
      ],
      "source": [
        "# Loop through applied and reaction forces\n",
        "for key, value in beam.items():\n",
        "    if key == 'applied':\n",
        "        print(f'The applied forces are {value}')\n",
        "    elif key == 'reactions':\n",
        "        print(f'The reaction forces are {value}')\n",
        "    else:\n",
        "        print(f'The distances are {value}')"
      ]
    },
    {
      "cell_type": "markdown",
      "metadata": {
        "id": "GD4BAKXEz9rt"
      },
      "source": [
        "I want you to use loops and conditional statements to convert the forces from kN to N, reassign the values to the dictionary, and print the dictionary."
      ]
    },
    {
      "cell_type": "code",
      "execution_count": 96,
      "metadata": {
        "colab": {
          "base_uri": "https://localhost:8080/",
          "height": 0
        },
        "id": "1OTQOeHNz9rt",
        "outputId": "0b2d1d6a-a054-4da3-e68c-6d77407b71e9"
      },
      "outputs": [
        {
          "output_type": "stream",
          "name": "stdout",
          "text": [
            "{'distances': [6, 3.0, 10.0], 'applied': [10000.0, 30000.0], 'reactions': {'A_y': 8000.0, 'B_y': 2000.0}}\n"
          ]
        }
      ],
      "source": [
        "# YOUR CODE HERE\n",
        "\n",
        "for key, value in beam.items():\n",
        "    if key == 'applied':\n",
        "        # Convert both force and moment from KN to N (KNm to Nm for moment)\n",
        "        for i in range(len(value)):\n",
        "            value[i] = value[i] * 1000\n",
        "    elif key == 'reactions':\n",
        "        for reaction_key in value:\n",
        "            value[reaction_key] = value[reaction_key] * 1000\n",
        "\n",
        "\n",
        "print(beam)"
      ]
    },
    {
      "cell_type": "markdown",
      "metadata": {
        "id": "KrslMjjZz9rt"
      },
      "source": [
        "### Question 4 - Functions\n",
        "\n",
        "In order to calculate the shear force and bending moment at different points along the beam, we will need to write functions to perform these calculations. Functions are reusable blocks of code that perform a specific task. They can take arguments and return values.\n",
        "\n",
        "The shear force at point B is a trivial calculation. The sum of the forces in the y-direction must be zero.\n",
        "\n",
        "$$\n",
        "\\sum F_y = 0\n",
        "$$\n",
        "\n",
        "$$\n",
        "\\sum F_y = A_y - V_{AB}\n",
        "$$\n",
        "\n",
        "Where $V_{AB}$ is the shear force at point B. Let's solve for $V_{AB}$."
      ]
    },
    {
      "cell_type": "code",
      "execution_count": 97,
      "metadata": {
        "colab": {
          "base_uri": "https://localhost:8080/",
          "height": 0
        },
        "id": "f7VEYmZJz9rt",
        "outputId": "0f914941-9b93-4fe8-fc20-56490b6cdae1"
      },
      "outputs": [
        {
          "output_type": "stream",
          "name": "stdout",
          "text": [
            "The shear force at point B is 8.0 kN\n"
          ]
        }
      ],
      "source": [
        "def calc_V_ab(A_y):\n",
        "    \"\"\"\n",
        "    Calculate the shear force at point B.\n",
        "\n",
        "    Parameters:\n",
        "    A_y : float\n",
        "        The reaction force at point A in kN.\n",
        "\n",
        "    Returns:\n",
        "    V_ab : float\n",
        "        The shear forcein kN.\n",
        "    \"\"\"\n",
        "    V_ab = A_y\n",
        "    return V_ab\n",
        "\n",
        "V_b = calc_V_ab(A_y)\n",
        "print(f'The shear force at point B is {V_b} kN')"
      ]
    },
    {
      "cell_type": "markdown",
      "metadata": {
        "id": "6yAY3uIYz9rt"
      },
      "source": [
        "The function begins with the `def` keyword, followed by the function name and the arguments in parentheses. Following is what is called a docstring, which is a string that describes the purpose of the function. It is best practice to include a docstring in your functions, so that others can understand what the function does.\n",
        "The function body is indented. The function returns a value using the `return` keyword.\n",
        "\n",
        "Let's do it again for the shear force at point C."
      ]
    },
    {
      "cell_type": "code",
      "execution_count": 98,
      "metadata": {
        "colab": {
          "base_uri": "https://localhost:8080/",
          "height": 0
        },
        "id": "911BC_jtz9rt",
        "outputId": "43c47143-a112-4746-fdd7-b6868f4b076c"
      },
      "outputs": [
        {
          "output_type": "stream",
          "name": "stdout",
          "text": [
            "The shear force at point C is -2.0 kN\n"
          ]
        }
      ],
      "source": [
        "def calc_V_bc(F_b, A_y):\n",
        "    \"\"\"\n",
        "    Calculate the shear force at point C.\n",
        "\n",
        "    Parameters:\n",
        "    F_b : float\n",
        "        The applied force at point B in kN.\n",
        "    A_y : float\n",
        "        The reaction force at point A in kN.\n",
        "\n",
        "    Returns:\n",
        "    V_bc : float\n",
        "        The shear force in kN.\n",
        "    \"\"\"\n",
        "    V_bc = A_y - F_b\n",
        "    return V_bc\n",
        "\n",
        "V_c = calc_V_bc(F_b, A_y)\n",
        "print(f'The shear force at point C is {V_c} kN')"
      ]
    },
    {
      "cell_type": "markdown",
      "metadata": {
        "id": "SDak8P4kz9rt"
      },
      "source": [
        "I want you to write functions to calculate the bending moment in the rest of the beam."
      ]
    },
    {
      "cell_type": "code",
      "execution_count": 105,
      "metadata": {
        "id": "KBeG4IaEz9rt"
      },
      "outputs": [],
      "source": [
        "# YOUR CODE HERE\n",
        "def calc_M_ab(xi, A_y):\n",
        "    \"\"\"\n",
        "    Calculate the bending moment in segment AB.\n",
        "\n",
        "    Parameters:\n",
        "    xi : float\n",
        "        Position along the beam (m).\n",
        "    A_y : float\n",
        "        Reaction force at A (kN).\n",
        "\n",
        "    Returns:\n",
        "    M_ab : float\n",
        "        Bending moment at position xi (kNm).\n",
        "    \"\"\"\n",
        "    M_ab = A_y * xi\n",
        "    return M_ab\n",
        "\n",
        "def calc_M_bc(xi, A_y, F_b, d_ab):\n",
        "    \"\"\"\n",
        "    Calculate the bending moment in segment BC.\n",
        "\n",
        "    Parameters:\n",
        "    xi : float\n",
        "        Position along the beam (m).\n",
        "    A_y : float\n",
        "        Reaction force at A (kN).\n",
        "    F_b : float\n",
        "        Applied force at B (kN).\n",
        "    d_ab : float\n",
        "        Distance from A to B (m).\n",
        "\n",
        "    Returns:\n",
        "    M_bc : float\n",
        "        Bending moment at position xi (kNm).\n",
        "    \"\"\"\n",
        "    M_bc = A_y * xi - F_b * (xi - d_ab)\n",
        "    return M_bc\n",
        "\n",
        "def calc_M_cd(xi, A_y, F_b, M_c, d_ab, d_bc):\n",
        "    \"\"\"\n",
        "    Calculate the bending moment in segment CD.\n",
        "\n",
        "    Parameters:\n",
        "    xi : float\n",
        "        Position along the beam (m).\n",
        "    A_y : float\n",
        "        Reaction force at A (kN).\n",
        "    F_b : float\n",
        "        Applied force at B (kN).\n",
        "    M_c : float\n",
        "        Applied moment at C (kN*m).\n",
        "    d_ab : float\n",
        "        Distance from A to B (m).\n",
        "    d_bc : float\n",
        "        Distance from B to C (m).\n",
        "\n",
        "    Returns:\n",
        "    M_cd : float\n",
        "        Bending moment at position xi (kNm).\n",
        "    \"\"\"\n",
        "    M_cd = A_y * xi - F_b * (xi - d_ab) + M_c\n",
        "    return M_cd\n"
      ]
    },
    {
      "cell_type": "markdown",
      "metadata": {
        "id": "4llaQrcGz9rt"
      },
      "source": [
        "### Question 5 - Plotting shear force and bending moment diagrams\n",
        "\n",
        "Great! Now we can put it all together to plot the shear force and bending moment diagrams. We will use the `matplotlib` library to plot the diagrams and `numpy` to help assist with our numerical computations. I have imported the libaries already, but when you are working on your own, you will need to import them.\n",
        "\n",
        "We want to plot at arbitrary points along the beam, so we will need to create an array of x-values. We can use the `np.linspace()` function to create an array of evenly spaced values along the length of the beam"
      ]
    },
    {
      "cell_type": "code",
      "execution_count": 100,
      "metadata": {
        "id": "MEgccYYsz9rt"
      },
      "outputs": [],
      "source": [
        "x = np.linspace(0, L, 100)"
      ]
    },
    {
      "cell_type": "markdown",
      "metadata": {
        "id": "YjHBw9Ejz9rt"
      },
      "source": [
        "I am going to create the shear force diagram for you. First let's initalize our shear force array."
      ]
    },
    {
      "cell_type": "code",
      "execution_count": 101,
      "metadata": {
        "id": "kKnBNiIdz9ru"
      },
      "outputs": [],
      "source": [
        "shear = np.zeros_like(x)"
      ]
    },
    {
      "cell_type": "markdown",
      "metadata": {
        "id": "Rx8I83Fbz9ru"
      },
      "source": [
        "Now we will loop through the x-values and calculate the shear force at each point. We will use the conditionals to determine which function to use at each segment."
      ]
    },
    {
      "cell_type": "code",
      "execution_count": 102,
      "metadata": {
        "id": "jVRQOzxBz9ru"
      },
      "outputs": [],
      "source": [
        "for i, xi in enumerate(x):\n",
        "    if xi <= d_ab:\n",
        "        shear[i] = calc_V_ab(A_y)\n",
        "    else:\n",
        "        shear[i] = calc_V_bc(F_b, A_y)"
      ]
    },
    {
      "cell_type": "markdown",
      "metadata": {
        "id": "DYSxXOMDz9ru"
      },
      "source": [
        "Let's plot the shear force diagram. Always title your plot and label your axes with units. A lot of the rest of plotting is just formatting the plot to make it look nice."
      ]
    },
    {
      "cell_type": "code",
      "execution_count": 103,
      "metadata": {
        "colab": {
          "base_uri": "https://localhost:8080/",
          "height": 453
        },
        "id": "ad3_kxMJz9ru",
        "outputId": "fd120137-206b-46ef-ad22-85bad77b298e"
      },
      "outputs": [
        {
          "output_type": "display_data",
          "data": {
            "text/plain": [
              "<Figure size 640x480 with 1 Axes>"
            ],
            "image/svg+xml": "<?xml version=\"1.0\" encoding=\"utf-8\" standalone=\"no\"?>\n<!DOCTYPE svg PUBLIC \"-//W3C//DTD SVG 1.1//EN\"\n  \"http://www.w3.org/Graphics/SVG/1.1/DTD/svg11.dtd\">\n<svg xmlns:xlink=\"http://www.w3.org/1999/xlink\" width=\"406.084125pt\" height=\"323.91425pt\" viewBox=\"0 0 406.084125 323.91425\" xmlns=\"http://www.w3.org/2000/svg\" version=\"1.1\">\n <metadata>\n  <rdf:RDF xmlns:dc=\"http://purl.org/dc/elements/1.1/\" xmlns:cc=\"http://creativecommons.org/ns#\" xmlns:rdf=\"http://www.w3.org/1999/02/22-rdf-syntax-ns#\">\n   <cc:Work>\n    <dc:type rdf:resource=\"http://purl.org/dc/dcmitype/StillImage\"/>\n    <dc:date>2025-04-25T21:58:17.250840</dc:date>\n    <dc:format>image/svg+xml</dc:format>\n    <dc:creator>\n     <cc:Agent>\n      <dc:title>Matplotlib v3.10.0, https://matplotlib.org/</dc:title>\n     </cc:Agent>\n    </dc:creator>\n   </cc:Work>\n  </rdf:RDF>\n </metadata>\n <defs>\n  <style type=\"text/css\">*{stroke-linejoin: round; stroke-linecap: butt}</style>\n </defs>\n <g id=\"figure_1\">\n  <g id=\"patch_1\">\n   <path d=\"M -0 323.91425 \nL 406.084125 323.91425 \nL 406.084125 0 \nL -0 0 \nz\n\" style=\"fill: #ffffff\"/>\n  </g>\n  <g id=\"axes_1\">\n   <g id=\"patch_2\">\n    <path d=\"M 41.764125 286.6065 \nL 398.884125 286.6065 \nL 398.884125 20.4945 \nL 41.764125 20.4945 \nz\n\" style=\"fill: #ffffff\"/>\n   </g>\n   <g id=\"matplotlib.axis_1\">\n    <g id=\"xtick_1\">\n     <g id=\"line2d_1\">\n      <path d=\"M 57.996852 286.6065 \nL 57.996852 20.4945 \n\" clip-path=\"url(#p19e24f046c)\" style=\"fill: none; stroke: #cccccc; stroke-width: 0.8; stroke-linecap: round\"/>\n     </g>\n     <g id=\"line2d_2\">\n      <defs>\n       <path id=\"m5ed393af87\" d=\"M 0 0 \nL 0 4.8 \n\" style=\"stroke: #262626\"/>\n      </defs>\n      <g>\n       <use xlink:href=\"#m5ed393af87\" x=\"57.996852\" y=\"286.6065\" style=\"fill: #262626; stroke: #262626\"/>\n      </g>\n     </g>\n     <g id=\"text_1\">\n      <!-- 0 -->\n      <g style=\"fill: #262626\" transform=\"translate(55.197352 301.593125) scale(0.088 -0.088)\">\n       <defs>\n        <path id=\"DejaVuSans-30\" d=\"M 2034 4250 \nQ 1547 4250 1301 3770 \nQ 1056 3291 1056 2328 \nQ 1056 1369 1301 889 \nQ 1547 409 2034 409 \nQ 2525 409 2770 889 \nQ 3016 1369 3016 2328 \nQ 3016 3291 2770 3770 \nQ 2525 4250 2034 4250 \nz\nM 2034 4750 \nQ 2819 4750 3233 4129 \nQ 3647 3509 3647 2328 \nQ 3647 1150 3233 529 \nQ 2819 -91 2034 -91 \nQ 1250 -91 836 529 \nQ 422 1150 422 2328 \nQ 422 3509 836 4129 \nQ 1250 4750 2034 4750 \nz\n\" transform=\"scale(0.015625)\"/>\n       </defs>\n       <use xlink:href=\"#DejaVuSans-30\"/>\n      </g>\n     </g>\n    </g>\n    <g id=\"xtick_2\">\n     <g id=\"line2d_3\">\n      <path d=\"M 101.284125 286.6065 \nL 101.284125 20.4945 \n\" clip-path=\"url(#p19e24f046c)\" style=\"fill: none; stroke: #cccccc; stroke-width: 0.8; stroke-linecap: round\"/>\n     </g>\n     <g id=\"line2d_4\">\n      <g>\n       <use xlink:href=\"#m5ed393af87\" x=\"101.284125\" y=\"286.6065\" style=\"fill: #262626; stroke: #262626\"/>\n      </g>\n     </g>\n     <g id=\"text_2\">\n      <!-- 2 -->\n      <g style=\"fill: #262626\" transform=\"translate(98.484625 301.593125) scale(0.088 -0.088)\">\n       <defs>\n        <path id=\"DejaVuSans-32\" d=\"M 1228 531 \nL 3431 531 \nL 3431 0 \nL 469 0 \nL 469 531 \nQ 828 903 1448 1529 \nQ 2069 2156 2228 2338 \nQ 2531 2678 2651 2914 \nQ 2772 3150 2772 3378 \nQ 2772 3750 2511 3984 \nQ 2250 4219 1831 4219 \nQ 1534 4219 1204 4116 \nQ 875 4013 500 3803 \nL 500 4441 \nQ 881 4594 1212 4672 \nQ 1544 4750 1819 4750 \nQ 2544 4750 2975 4387 \nQ 3406 4025 3406 3419 \nQ 3406 3131 3298 2873 \nQ 3191 2616 2906 2266 \nQ 2828 2175 2409 1742 \nQ 1991 1309 1228 531 \nz\n\" transform=\"scale(0.015625)\"/>\n       </defs>\n       <use xlink:href=\"#DejaVuSans-32\"/>\n      </g>\n     </g>\n    </g>\n    <g id=\"xtick_3\">\n     <g id=\"line2d_5\">\n      <path d=\"M 144.571398 286.6065 \nL 144.571398 20.4945 \n\" clip-path=\"url(#p19e24f046c)\" style=\"fill: none; stroke: #cccccc; stroke-width: 0.8; stroke-linecap: round\"/>\n     </g>\n     <g id=\"line2d_6\">\n      <g>\n       <use xlink:href=\"#m5ed393af87\" x=\"144.571398\" y=\"286.6065\" style=\"fill: #262626; stroke: #262626\"/>\n      </g>\n     </g>\n     <g id=\"text_3\">\n      <!-- 4 -->\n      <g style=\"fill: #262626\" transform=\"translate(141.771898 301.593125) scale(0.088 -0.088)\">\n       <defs>\n        <path id=\"DejaVuSans-34\" d=\"M 2419 4116 \nL 825 1625 \nL 2419 1625 \nL 2419 4116 \nz\nM 2253 4666 \nL 3047 4666 \nL 3047 1625 \nL 3713 1625 \nL 3713 1100 \nL 3047 1100 \nL 3047 0 \nL 2419 0 \nL 2419 1100 \nL 313 1100 \nL 313 1709 \nL 2253 4666 \nz\n\" transform=\"scale(0.015625)\"/>\n       </defs>\n       <use xlink:href=\"#DejaVuSans-34\"/>\n      </g>\n     </g>\n    </g>\n    <g id=\"xtick_4\">\n     <g id=\"line2d_7\">\n      <path d=\"M 187.85867 286.6065 \nL 187.85867 20.4945 \n\" clip-path=\"url(#p19e24f046c)\" style=\"fill: none; stroke: #cccccc; stroke-width: 0.8; stroke-linecap: round\"/>\n     </g>\n     <g id=\"line2d_8\">\n      <g>\n       <use xlink:href=\"#m5ed393af87\" x=\"187.85867\" y=\"286.6065\" style=\"fill: #262626; stroke: #262626\"/>\n      </g>\n     </g>\n     <g id=\"text_4\">\n      <!-- 6 -->\n      <g style=\"fill: #262626\" transform=\"translate(185.05917 301.593125) scale(0.088 -0.088)\">\n       <defs>\n        <path id=\"DejaVuSans-36\" d=\"M 2113 2584 \nQ 1688 2584 1439 2293 \nQ 1191 2003 1191 1497 \nQ 1191 994 1439 701 \nQ 1688 409 2113 409 \nQ 2538 409 2786 701 \nQ 3034 994 3034 1497 \nQ 3034 2003 2786 2293 \nQ 2538 2584 2113 2584 \nz\nM 3366 4563 \nL 3366 3988 \nQ 3128 4100 2886 4159 \nQ 2644 4219 2406 4219 \nQ 1781 4219 1451 3797 \nQ 1122 3375 1075 2522 \nQ 1259 2794 1537 2939 \nQ 1816 3084 2150 3084 \nQ 2853 3084 3261 2657 \nQ 3669 2231 3669 1497 \nQ 3669 778 3244 343 \nQ 2819 -91 2113 -91 \nQ 1303 -91 875 529 \nQ 447 1150 447 2328 \nQ 447 3434 972 4092 \nQ 1497 4750 2381 4750 \nQ 2619 4750 2861 4703 \nQ 3103 4656 3366 4563 \nz\n\" transform=\"scale(0.015625)\"/>\n       </defs>\n       <use xlink:href=\"#DejaVuSans-36\"/>\n      </g>\n     </g>\n    </g>\n    <g id=\"xtick_5\">\n     <g id=\"line2d_9\">\n      <path d=\"M 231.145943 286.6065 \nL 231.145943 20.4945 \n\" clip-path=\"url(#p19e24f046c)\" style=\"fill: none; stroke: #cccccc; stroke-width: 0.8; stroke-linecap: round\"/>\n     </g>\n     <g id=\"line2d_10\">\n      <g>\n       <use xlink:href=\"#m5ed393af87\" x=\"231.145943\" y=\"286.6065\" style=\"fill: #262626; stroke: #262626\"/>\n      </g>\n     </g>\n     <g id=\"text_5\">\n      <!-- 8 -->\n      <g style=\"fill: #262626\" transform=\"translate(228.346443 301.593125) scale(0.088 -0.088)\">\n       <defs>\n        <path id=\"DejaVuSans-38\" d=\"M 2034 2216 \nQ 1584 2216 1326 1975 \nQ 1069 1734 1069 1313 \nQ 1069 891 1326 650 \nQ 1584 409 2034 409 \nQ 2484 409 2743 651 \nQ 3003 894 3003 1313 \nQ 3003 1734 2745 1975 \nQ 2488 2216 2034 2216 \nz\nM 1403 2484 \nQ 997 2584 770 2862 \nQ 544 3141 544 3541 \nQ 544 4100 942 4425 \nQ 1341 4750 2034 4750 \nQ 2731 4750 3128 4425 \nQ 3525 4100 3525 3541 \nQ 3525 3141 3298 2862 \nQ 3072 2584 2669 2484 \nQ 3125 2378 3379 2068 \nQ 3634 1759 3634 1313 \nQ 3634 634 3220 271 \nQ 2806 -91 2034 -91 \nQ 1263 -91 848 271 \nQ 434 634 434 1313 \nQ 434 1759 690 2068 \nQ 947 2378 1403 2484 \nz\nM 1172 3481 \nQ 1172 3119 1398 2916 \nQ 1625 2713 2034 2713 \nQ 2441 2713 2670 2916 \nQ 2900 3119 2900 3481 \nQ 2900 3844 2670 4047 \nQ 2441 4250 2034 4250 \nQ 1625 4250 1398 4047 \nQ 1172 3844 1172 3481 \nz\n\" transform=\"scale(0.015625)\"/>\n       </defs>\n       <use xlink:href=\"#DejaVuSans-38\"/>\n      </g>\n     </g>\n    </g>\n    <g id=\"xtick_6\">\n     <g id=\"line2d_11\">\n      <path d=\"M 274.433216 286.6065 \nL 274.433216 20.4945 \n\" clip-path=\"url(#p19e24f046c)\" style=\"fill: none; stroke: #cccccc; stroke-width: 0.8; stroke-linecap: round\"/>\n     </g>\n     <g id=\"line2d_12\">\n      <g>\n       <use xlink:href=\"#m5ed393af87\" x=\"274.433216\" y=\"286.6065\" style=\"fill: #262626; stroke: #262626\"/>\n      </g>\n     </g>\n     <g id=\"text_6\">\n      <!-- 10 -->\n      <g style=\"fill: #262626\" transform=\"translate(268.834216 301.593125) scale(0.088 -0.088)\">\n       <defs>\n        <path id=\"DejaVuSans-31\" d=\"M 794 531 \nL 1825 531 \nL 1825 4091 \nL 703 3866 \nL 703 4441 \nL 1819 4666 \nL 2450 4666 \nL 2450 531 \nL 3481 531 \nL 3481 0 \nL 794 0 \nL 794 531 \nz\n\" transform=\"scale(0.015625)\"/>\n       </defs>\n       <use xlink:href=\"#DejaVuSans-31\"/>\n       <use xlink:href=\"#DejaVuSans-30\" transform=\"translate(63.623047 0)\"/>\n      </g>\n     </g>\n    </g>\n    <g id=\"xtick_7\">\n     <g id=\"line2d_13\">\n      <path d=\"M 317.720489 286.6065 \nL 317.720489 20.4945 \n\" clip-path=\"url(#p19e24f046c)\" style=\"fill: none; stroke: #cccccc; stroke-width: 0.8; stroke-linecap: round\"/>\n     </g>\n     <g id=\"line2d_14\">\n      <g>\n       <use xlink:href=\"#m5ed393af87\" x=\"317.720489\" y=\"286.6065\" style=\"fill: #262626; stroke: #262626\"/>\n      </g>\n     </g>\n     <g id=\"text_7\">\n      <!-- 12 -->\n      <g style=\"fill: #262626\" transform=\"translate(312.121489 301.593125) scale(0.088 -0.088)\">\n       <use xlink:href=\"#DejaVuSans-31\"/>\n       <use xlink:href=\"#DejaVuSans-32\" transform=\"translate(63.623047 0)\"/>\n      </g>\n     </g>\n    </g>\n    <g id=\"xtick_8\">\n     <g id=\"line2d_15\">\n      <path d=\"M 361.007761 286.6065 \nL 361.007761 20.4945 \n\" clip-path=\"url(#p19e24f046c)\" style=\"fill: none; stroke: #cccccc; stroke-width: 0.8; stroke-linecap: round\"/>\n     </g>\n     <g id=\"line2d_16\">\n      <g>\n       <use xlink:href=\"#m5ed393af87\" x=\"361.007761\" y=\"286.6065\" style=\"fill: #262626; stroke: #262626\"/>\n      </g>\n     </g>\n     <g id=\"text_8\">\n      <!-- 14 -->\n      <g style=\"fill: #262626\" transform=\"translate(355.408761 301.593125) scale(0.088 -0.088)\">\n       <use xlink:href=\"#DejaVuSans-31\"/>\n       <use xlink:href=\"#DejaVuSans-34\" transform=\"translate(63.623047 0)\"/>\n      </g>\n     </g>\n    </g>\n    <g id=\"text_9\">\n     <!-- Distance (m) -->\n     <g style=\"fill: #262626\" transform=\"translate(189.389625 314.71775) scale(0.096 -0.096)\">\n      <defs>\n       <path id=\"DejaVuSans-44\" d=\"M 1259 4147 \nL 1259 519 \nL 2022 519 \nQ 2988 519 3436 956 \nQ 3884 1394 3884 2338 \nQ 3884 3275 3436 3711 \nQ 2988 4147 2022 4147 \nL 1259 4147 \nz\nM 628 4666 \nL 1925 4666 \nQ 3281 4666 3915 4102 \nQ 4550 3538 4550 2338 \nQ 4550 1131 3912 565 \nQ 3275 0 1925 0 \nL 628 0 \nL 628 4666 \nz\n\" transform=\"scale(0.015625)\"/>\n       <path id=\"DejaVuSans-69\" d=\"M 603 3500 \nL 1178 3500 \nL 1178 0 \nL 603 0 \nL 603 3500 \nz\nM 603 4863 \nL 1178 4863 \nL 1178 4134 \nL 603 4134 \nL 603 4863 \nz\n\" transform=\"scale(0.015625)\"/>\n       <path id=\"DejaVuSans-73\" d=\"M 2834 3397 \nL 2834 2853 \nQ 2591 2978 2328 3040 \nQ 2066 3103 1784 3103 \nQ 1356 3103 1142 2972 \nQ 928 2841 928 2578 \nQ 928 2378 1081 2264 \nQ 1234 2150 1697 2047 \nL 1894 2003 \nQ 2506 1872 2764 1633 \nQ 3022 1394 3022 966 \nQ 3022 478 2636 193 \nQ 2250 -91 1575 -91 \nQ 1294 -91 989 -36 \nQ 684 19 347 128 \nL 347 722 \nQ 666 556 975 473 \nQ 1284 391 1588 391 \nQ 1994 391 2212 530 \nQ 2431 669 2431 922 \nQ 2431 1156 2273 1281 \nQ 2116 1406 1581 1522 \nL 1381 1569 \nQ 847 1681 609 1914 \nQ 372 2147 372 2553 \nQ 372 3047 722 3315 \nQ 1072 3584 1716 3584 \nQ 2034 3584 2315 3537 \nQ 2597 3491 2834 3397 \nz\n\" transform=\"scale(0.015625)\"/>\n       <path id=\"DejaVuSans-74\" d=\"M 1172 4494 \nL 1172 3500 \nL 2356 3500 \nL 2356 3053 \nL 1172 3053 \nL 1172 1153 \nQ 1172 725 1289 603 \nQ 1406 481 1766 481 \nL 2356 481 \nL 2356 0 \nL 1766 0 \nQ 1100 0 847 248 \nQ 594 497 594 1153 \nL 594 3053 \nL 172 3053 \nL 172 3500 \nL 594 3500 \nL 594 4494 \nL 1172 4494 \nz\n\" transform=\"scale(0.015625)\"/>\n       <path id=\"DejaVuSans-61\" d=\"M 2194 1759 \nQ 1497 1759 1228 1600 \nQ 959 1441 959 1056 \nQ 959 750 1161 570 \nQ 1363 391 1709 391 \nQ 2188 391 2477 730 \nQ 2766 1069 2766 1631 \nL 2766 1759 \nL 2194 1759 \nz\nM 3341 1997 \nL 3341 0 \nL 2766 0 \nL 2766 531 \nQ 2569 213 2275 61 \nQ 1981 -91 1556 -91 \nQ 1019 -91 701 211 \nQ 384 513 384 1019 \nQ 384 1609 779 1909 \nQ 1175 2209 1959 2209 \nL 2766 2209 \nL 2766 2266 \nQ 2766 2663 2505 2880 \nQ 2244 3097 1772 3097 \nQ 1472 3097 1187 3025 \nQ 903 2953 641 2809 \nL 641 3341 \nQ 956 3463 1253 3523 \nQ 1550 3584 1831 3584 \nQ 2591 3584 2966 3190 \nQ 3341 2797 3341 1997 \nz\n\" transform=\"scale(0.015625)\"/>\n       <path id=\"DejaVuSans-6e\" d=\"M 3513 2113 \nL 3513 0 \nL 2938 0 \nL 2938 2094 \nQ 2938 2591 2744 2837 \nQ 2550 3084 2163 3084 \nQ 1697 3084 1428 2787 \nQ 1159 2491 1159 1978 \nL 1159 0 \nL 581 0 \nL 581 3500 \nL 1159 3500 \nL 1159 2956 \nQ 1366 3272 1645 3428 \nQ 1925 3584 2291 3584 \nQ 2894 3584 3203 3211 \nQ 3513 2838 3513 2113 \nz\n\" transform=\"scale(0.015625)\"/>\n       <path id=\"DejaVuSans-63\" d=\"M 3122 3366 \nL 3122 2828 \nQ 2878 2963 2633 3030 \nQ 2388 3097 2138 3097 \nQ 1578 3097 1268 2742 \nQ 959 2388 959 1747 \nQ 959 1106 1268 751 \nQ 1578 397 2138 397 \nQ 2388 397 2633 464 \nQ 2878 531 3122 666 \nL 3122 134 \nQ 2881 22 2623 -34 \nQ 2366 -91 2075 -91 \nQ 1284 -91 818 406 \nQ 353 903 353 1747 \nQ 353 2603 823 3093 \nQ 1294 3584 2113 3584 \nQ 2378 3584 2631 3529 \nQ 2884 3475 3122 3366 \nz\n\" transform=\"scale(0.015625)\"/>\n       <path id=\"DejaVuSans-65\" d=\"M 3597 1894 \nL 3597 1613 \nL 953 1613 \nQ 991 1019 1311 708 \nQ 1631 397 2203 397 \nQ 2534 397 2845 478 \nQ 3156 559 3463 722 \nL 3463 178 \nQ 3153 47 2828 -22 \nQ 2503 -91 2169 -91 \nQ 1331 -91 842 396 \nQ 353 884 353 1716 \nQ 353 2575 817 3079 \nQ 1281 3584 2069 3584 \nQ 2775 3584 3186 3129 \nQ 3597 2675 3597 1894 \nz\nM 3022 2063 \nQ 3016 2534 2758 2815 \nQ 2500 3097 2075 3097 \nQ 1594 3097 1305 2825 \nQ 1016 2553 972 2059 \nL 3022 2063 \nz\n\" transform=\"scale(0.015625)\"/>\n       <path id=\"DejaVuSans-20\" transform=\"scale(0.015625)\"/>\n       <path id=\"DejaVuSans-28\" d=\"M 1984 4856 \nQ 1566 4138 1362 3434 \nQ 1159 2731 1159 2009 \nQ 1159 1288 1364 580 \nQ 1569 -128 1984 -844 \nL 1484 -844 \nQ 1016 -109 783 600 \nQ 550 1309 550 2009 \nQ 550 2706 781 3412 \nQ 1013 4119 1484 4856 \nL 1984 4856 \nz\n\" transform=\"scale(0.015625)\"/>\n       <path id=\"DejaVuSans-6d\" d=\"M 3328 2828 \nQ 3544 3216 3844 3400 \nQ 4144 3584 4550 3584 \nQ 5097 3584 5394 3201 \nQ 5691 2819 5691 2113 \nL 5691 0 \nL 5113 0 \nL 5113 2094 \nQ 5113 2597 4934 2840 \nQ 4756 3084 4391 3084 \nQ 3944 3084 3684 2787 \nQ 3425 2491 3425 1978 \nL 3425 0 \nL 2847 0 \nL 2847 2094 \nQ 2847 2600 2669 2842 \nQ 2491 3084 2119 3084 \nQ 1678 3084 1418 2786 \nQ 1159 2488 1159 1978 \nL 1159 0 \nL 581 0 \nL 581 3500 \nL 1159 3500 \nL 1159 2956 \nQ 1356 3278 1631 3431 \nQ 1906 3584 2284 3584 \nQ 2666 3584 2933 3390 \nQ 3200 3197 3328 2828 \nz\n\" transform=\"scale(0.015625)\"/>\n       <path id=\"DejaVuSans-29\" d=\"M 513 4856 \nL 1013 4856 \nQ 1481 4119 1714 3412 \nQ 1947 2706 1947 2009 \nQ 1947 1309 1714 600 \nQ 1481 -109 1013 -844 \nL 513 -844 \nQ 928 -128 1133 580 \nQ 1338 1288 1338 2009 \nQ 1338 2731 1133 3434 \nQ 928 4138 513 4856 \nz\n\" transform=\"scale(0.015625)\"/>\n      </defs>\n      <use xlink:href=\"#DejaVuSans-44\"/>\n      <use xlink:href=\"#DejaVuSans-69\" transform=\"translate(77.001953 0)\"/>\n      <use xlink:href=\"#DejaVuSans-73\" transform=\"translate(104.785156 0)\"/>\n      <use xlink:href=\"#DejaVuSans-74\" transform=\"translate(156.884766 0)\"/>\n      <use xlink:href=\"#DejaVuSans-61\" transform=\"translate(196.09375 0)\"/>\n      <use xlink:href=\"#DejaVuSans-6e\" transform=\"translate(257.373047 0)\"/>\n      <use xlink:href=\"#DejaVuSans-63\" transform=\"translate(320.751953 0)\"/>\n      <use xlink:href=\"#DejaVuSans-65\" transform=\"translate(375.732422 0)\"/>\n      <use xlink:href=\"#DejaVuSans-20\" transform=\"translate(437.255859 0)\"/>\n      <use xlink:href=\"#DejaVuSans-28\" transform=\"translate(469.042969 0)\"/>\n      <use xlink:href=\"#DejaVuSans-6d\" transform=\"translate(508.056641 0)\"/>\n      <use xlink:href=\"#DejaVuSans-29\" transform=\"translate(605.46875 0)\"/>\n     </g>\n    </g>\n   </g>\n   <g id=\"matplotlib.axis_2\">\n    <g id=\"ytick_1\">\n     <g id=\"line2d_17\">\n      <path d=\"M 41.764125 274.5105 \nL 398.884125 274.5105 \n\" clip-path=\"url(#p19e24f046c)\" style=\"fill: none; stroke: #cccccc; stroke-width: 0.8; stroke-linecap: round\"/>\n     </g>\n     <g id=\"line2d_18\">\n      <defs>\n       <path id=\"m59203ca82c\" d=\"M 0 0 \nL -4.8 0 \n\" style=\"stroke: #262626\"/>\n      </defs>\n      <g>\n       <use xlink:href=\"#m59203ca82c\" x=\"41.764125\" y=\"274.5105\" style=\"fill: #262626; stroke: #262626\"/>\n      </g>\n     </g>\n     <g id=\"text_10\">\n      <!-- −2 -->\n      <g style=\"fill: #262626\" transform=\"translate(20.491 277.853812) scale(0.088 -0.088)\">\n       <defs>\n        <path id=\"DejaVuSans-2212\" d=\"M 678 2272 \nL 4684 2272 \nL 4684 1741 \nL 678 1741 \nL 678 2272 \nz\n\" transform=\"scale(0.015625)\"/>\n       </defs>\n       <use xlink:href=\"#DejaVuSans-2212\"/>\n       <use xlink:href=\"#DejaVuSans-32\" transform=\"translate(83.789062 0)\"/>\n      </g>\n     </g>\n    </g>\n    <g id=\"ytick_2\">\n     <g id=\"line2d_19\">\n      <path d=\"M 41.764125 226.1265 \nL 398.884125 226.1265 \n\" clip-path=\"url(#p19e24f046c)\" style=\"fill: none; stroke: #cccccc; stroke-width: 0.8; stroke-linecap: round\"/>\n     </g>\n     <g id=\"line2d_20\">\n      <g>\n       <use xlink:href=\"#m59203ca82c\" x=\"41.764125\" y=\"226.1265\" style=\"fill: #262626; stroke: #262626\"/>\n      </g>\n     </g>\n     <g id=\"text_11\">\n      <!-- 0 -->\n      <g style=\"fill: #262626\" transform=\"translate(27.865125 229.469812) scale(0.088 -0.088)\">\n       <use xlink:href=\"#DejaVuSans-30\"/>\n      </g>\n     </g>\n    </g>\n    <g id=\"ytick_3\">\n     <g id=\"line2d_21\">\n      <path d=\"M 41.764125 177.7425 \nL 398.884125 177.7425 \n\" clip-path=\"url(#p19e24f046c)\" style=\"fill: none; stroke: #cccccc; stroke-width: 0.8; stroke-linecap: round\"/>\n     </g>\n     <g id=\"line2d_22\">\n      <g>\n       <use xlink:href=\"#m59203ca82c\" x=\"41.764125\" y=\"177.7425\" style=\"fill: #262626; stroke: #262626\"/>\n      </g>\n     </g>\n     <g id=\"text_12\">\n      <!-- 2 -->\n      <g style=\"fill: #262626\" transform=\"translate(27.865125 181.085812) scale(0.088 -0.088)\">\n       <use xlink:href=\"#DejaVuSans-32\"/>\n      </g>\n     </g>\n    </g>\n    <g id=\"ytick_4\">\n     <g id=\"line2d_23\">\n      <path d=\"M 41.764125 129.3585 \nL 398.884125 129.3585 \n\" clip-path=\"url(#p19e24f046c)\" style=\"fill: none; stroke: #cccccc; stroke-width: 0.8; stroke-linecap: round\"/>\n     </g>\n     <g id=\"line2d_24\">\n      <g>\n       <use xlink:href=\"#m59203ca82c\" x=\"41.764125\" y=\"129.3585\" style=\"fill: #262626; stroke: #262626\"/>\n      </g>\n     </g>\n     <g id=\"text_13\">\n      <!-- 4 -->\n      <g style=\"fill: #262626\" transform=\"translate(27.865125 132.701812) scale(0.088 -0.088)\">\n       <use xlink:href=\"#DejaVuSans-34\"/>\n      </g>\n     </g>\n    </g>\n    <g id=\"ytick_5\">\n     <g id=\"line2d_25\">\n      <path d=\"M 41.764125 80.9745 \nL 398.884125 80.9745 \n\" clip-path=\"url(#p19e24f046c)\" style=\"fill: none; stroke: #cccccc; stroke-width: 0.8; stroke-linecap: round\"/>\n     </g>\n     <g id=\"line2d_26\">\n      <g>\n       <use xlink:href=\"#m59203ca82c\" x=\"41.764125\" y=\"80.9745\" style=\"fill: #262626; stroke: #262626\"/>\n      </g>\n     </g>\n     <g id=\"text_14\">\n      <!-- 6 -->\n      <g style=\"fill: #262626\" transform=\"translate(27.865125 84.317812) scale(0.088 -0.088)\">\n       <use xlink:href=\"#DejaVuSans-36\"/>\n      </g>\n     </g>\n    </g>\n    <g id=\"ytick_6\">\n     <g id=\"line2d_27\">\n      <path d=\"M 41.764125 32.5905 \nL 398.884125 32.5905 \n\" clip-path=\"url(#p19e24f046c)\" style=\"fill: none; stroke: #cccccc; stroke-width: 0.8; stroke-linecap: round\"/>\n     </g>\n     <g id=\"line2d_28\">\n      <g>\n       <use xlink:href=\"#m59203ca82c\" x=\"41.764125\" y=\"32.5905\" style=\"fill: #262626; stroke: #262626\"/>\n      </g>\n     </g>\n     <g id=\"text_15\">\n      <!-- 8 -->\n      <g style=\"fill: #262626\" transform=\"translate(27.865125 35.933812) scale(0.088 -0.088)\">\n       <use xlink:href=\"#DejaVuSans-38\"/>\n      </g>\n     </g>\n    </g>\n    <g id=\"text_16\">\n     <!-- Shear Force (kN) -->\n     <g style=\"fill: #262626\" transform=\"translate(14.4945 193.65675) rotate(-90) scale(0.096 -0.096)\">\n      <defs>\n       <path id=\"DejaVuSans-53\" d=\"M 3425 4513 \nL 3425 3897 \nQ 3066 4069 2747 4153 \nQ 2428 4238 2131 4238 \nQ 1616 4238 1336 4038 \nQ 1056 3838 1056 3469 \nQ 1056 3159 1242 3001 \nQ 1428 2844 1947 2747 \nL 2328 2669 \nQ 3034 2534 3370 2195 \nQ 3706 1856 3706 1288 \nQ 3706 609 3251 259 \nQ 2797 -91 1919 -91 \nQ 1588 -91 1214 -16 \nQ 841 59 441 206 \nL 441 856 \nQ 825 641 1194 531 \nQ 1563 422 1919 422 \nQ 2459 422 2753 634 \nQ 3047 847 3047 1241 \nQ 3047 1584 2836 1778 \nQ 2625 1972 2144 2069 \nL 1759 2144 \nQ 1053 2284 737 2584 \nQ 422 2884 422 3419 \nQ 422 4038 858 4394 \nQ 1294 4750 2059 4750 \nQ 2388 4750 2728 4690 \nQ 3069 4631 3425 4513 \nz\n\" transform=\"scale(0.015625)\"/>\n       <path id=\"DejaVuSans-68\" d=\"M 3513 2113 \nL 3513 0 \nL 2938 0 \nL 2938 2094 \nQ 2938 2591 2744 2837 \nQ 2550 3084 2163 3084 \nQ 1697 3084 1428 2787 \nQ 1159 2491 1159 1978 \nL 1159 0 \nL 581 0 \nL 581 4863 \nL 1159 4863 \nL 1159 2956 \nQ 1366 3272 1645 3428 \nQ 1925 3584 2291 3584 \nQ 2894 3584 3203 3211 \nQ 3513 2838 3513 2113 \nz\n\" transform=\"scale(0.015625)\"/>\n       <path id=\"DejaVuSans-72\" d=\"M 2631 2963 \nQ 2534 3019 2420 3045 \nQ 2306 3072 2169 3072 \nQ 1681 3072 1420 2755 \nQ 1159 2438 1159 1844 \nL 1159 0 \nL 581 0 \nL 581 3500 \nL 1159 3500 \nL 1159 2956 \nQ 1341 3275 1631 3429 \nQ 1922 3584 2338 3584 \nQ 2397 3584 2469 3576 \nQ 2541 3569 2628 3553 \nL 2631 2963 \nz\n\" transform=\"scale(0.015625)\"/>\n       <path id=\"DejaVuSans-46\" d=\"M 628 4666 \nL 3309 4666 \nL 3309 4134 \nL 1259 4134 \nL 1259 2759 \nL 3109 2759 \nL 3109 2228 \nL 1259 2228 \nL 1259 0 \nL 628 0 \nL 628 4666 \nz\n\" transform=\"scale(0.015625)\"/>\n       <path id=\"DejaVuSans-6f\" d=\"M 1959 3097 \nQ 1497 3097 1228 2736 \nQ 959 2375 959 1747 \nQ 959 1119 1226 758 \nQ 1494 397 1959 397 \nQ 2419 397 2687 759 \nQ 2956 1122 2956 1747 \nQ 2956 2369 2687 2733 \nQ 2419 3097 1959 3097 \nz\nM 1959 3584 \nQ 2709 3584 3137 3096 \nQ 3566 2609 3566 1747 \nQ 3566 888 3137 398 \nQ 2709 -91 1959 -91 \nQ 1206 -91 779 398 \nQ 353 888 353 1747 \nQ 353 2609 779 3096 \nQ 1206 3584 1959 3584 \nz\n\" transform=\"scale(0.015625)\"/>\n       <path id=\"DejaVuSans-6b\" d=\"M 581 4863 \nL 1159 4863 \nL 1159 1991 \nL 2875 3500 \nL 3609 3500 \nL 1753 1863 \nL 3688 0 \nL 2938 0 \nL 1159 1709 \nL 1159 0 \nL 581 0 \nL 581 4863 \nz\n\" transform=\"scale(0.015625)\"/>\n       <path id=\"DejaVuSans-4e\" d=\"M 628 4666 \nL 1478 4666 \nL 3547 763 \nL 3547 4666 \nL 4159 4666 \nL 4159 0 \nL 3309 0 \nL 1241 3903 \nL 1241 0 \nL 628 0 \nL 628 4666 \nz\n\" transform=\"scale(0.015625)\"/>\n      </defs>\n      <use xlink:href=\"#DejaVuSans-53\"/>\n      <use xlink:href=\"#DejaVuSans-68\" transform=\"translate(63.476562 0)\"/>\n      <use xlink:href=\"#DejaVuSans-65\" transform=\"translate(126.855469 0)\"/>\n      <use xlink:href=\"#DejaVuSans-61\" transform=\"translate(188.378906 0)\"/>\n      <use xlink:href=\"#DejaVuSans-72\" transform=\"translate(249.658203 0)\"/>\n      <use xlink:href=\"#DejaVuSans-20\" transform=\"translate(290.771484 0)\"/>\n      <use xlink:href=\"#DejaVuSans-46\" transform=\"translate(322.558594 0)\"/>\n      <use xlink:href=\"#DejaVuSans-6f\" transform=\"translate(376.453125 0)\"/>\n      <use xlink:href=\"#DejaVuSans-72\" transform=\"translate(437.634766 0)\"/>\n      <use xlink:href=\"#DejaVuSans-63\" transform=\"translate(476.498047 0)\"/>\n      <use xlink:href=\"#DejaVuSans-65\" transform=\"translate(531.478516 0)\"/>\n      <use xlink:href=\"#DejaVuSans-20\" transform=\"translate(593.001953 0)\"/>\n      <use xlink:href=\"#DejaVuSans-28\" transform=\"translate(624.789062 0)\"/>\n      <use xlink:href=\"#DejaVuSans-6b\" transform=\"translate(663.802734 0)\"/>\n      <use xlink:href=\"#DejaVuSans-4e\" transform=\"translate(721.712891 0)\"/>\n      <use xlink:href=\"#DejaVuSans-29\" transform=\"translate(796.517578 0)\"/>\n     </g>\n    </g>\n   </g>\n   <g id=\"FillBetweenPolyCollection_1\">\n    <defs>\n     <path id=\"m9721c8d318\" d=\"M 57.996852 -97.78775 \nL 57.996852 -291.32375 \nL 61.276191 -291.32375 \nL 64.55553 -291.32375 \nL 67.834869 -291.32375 \nL 71.114208 -291.32375 \nL 74.393546 -291.32375 \nL 77.672885 -291.32375 \nL 80.952224 -291.32375 \nL 84.231563 -291.32375 \nL 87.510902 -291.32375 \nL 90.790241 -291.32375 \nL 94.06958 -291.32375 \nL 97.348918 -291.32375 \nL 100.628257 -291.32375 \nL 103.907596 -291.32375 \nL 107.186935 -291.32375 \nL 110.466274 -291.32375 \nL 113.745613 -291.32375 \nL 117.024951 -291.32375 \nL 120.30429 -291.32375 \nL 123.583629 -291.32375 \nL 126.862968 -291.32375 \nL 130.142307 -291.32375 \nL 133.421646 -291.32375 \nL 136.700985 -291.32375 \nL 139.980323 -291.32375 \nL 143.259662 -291.32375 \nL 146.539001 -291.32375 \nL 149.81834 -291.32375 \nL 153.097679 -291.32375 \nL 156.377018 -291.32375 \nL 159.656356 -291.32375 \nL 162.935695 -291.32375 \nL 166.215034 -291.32375 \nL 169.494373 -291.32375 \nL 172.773712 -291.32375 \nL 176.053051 -291.32375 \nL 179.332389 -291.32375 \nL 182.611728 -291.32375 \nL 185.891067 -291.32375 \nL 189.170406 -49.40375 \nL 192.449745 -49.40375 \nL 195.729084 -49.40375 \nL 199.008423 -49.40375 \nL 202.287761 -49.40375 \nL 205.5671 -49.40375 \nL 208.846439 -49.40375 \nL 212.125778 -49.40375 \nL 215.405117 -49.40375 \nL 218.684456 -49.40375 \nL 221.963794 -49.40375 \nL 225.243133 -49.40375 \nL 228.522472 -49.40375 \nL 231.801811 -49.40375 \nL 235.08115 -49.40375 \nL 238.360489 -49.40375 \nL 241.639827 -49.40375 \nL 244.919166 -49.40375 \nL 248.198505 -49.40375 \nL 251.477844 -49.40375 \nL 254.757183 -49.40375 \nL 258.036522 -49.40375 \nL 261.315861 -49.40375 \nL 264.595199 -49.40375 \nL 267.874538 -49.40375 \nL 271.153877 -49.40375 \nL 274.433216 -49.40375 \nL 277.712555 -49.40375 \nL 280.991894 -49.40375 \nL 284.271232 -49.40375 \nL 287.550571 -49.40375 \nL 290.82991 -49.40375 \nL 294.109249 -49.40375 \nL 297.388588 -49.40375 \nL 300.667927 -49.40375 \nL 303.947265 -49.40375 \nL 307.226604 -49.40375 \nL 310.505943 -49.40375 \nL 313.785282 -49.40375 \nL 317.064621 -49.40375 \nL 320.34396 -49.40375 \nL 323.623299 -49.40375 \nL 326.902637 -49.40375 \nL 330.181976 -49.40375 \nL 333.461315 -49.40375 \nL 336.740654 -49.40375 \nL 340.019993 -49.40375 \nL 343.299332 -49.40375 \nL 346.57867 -49.40375 \nL 349.858009 -49.40375 \nL 353.137348 -49.40375 \nL 356.416687 -49.40375 \nL 359.696026 -49.40375 \nL 362.975365 -49.40375 \nL 366.254704 -49.40375 \nL 369.534042 -49.40375 \nL 372.813381 -49.40375 \nL 376.09272 -49.40375 \nL 379.372059 -49.40375 \nL 382.651398 -49.40375 \nL 382.651398 -97.78775 \nL 382.651398 -97.78775 \nL 379.372059 -97.78775 \nL 376.09272 -97.78775 \nL 372.813381 -97.78775 \nL 369.534042 -97.78775 \nL 366.254704 -97.78775 \nL 362.975365 -97.78775 \nL 359.696026 -97.78775 \nL 356.416687 -97.78775 \nL 353.137348 -97.78775 \nL 349.858009 -97.78775 \nL 346.57867 -97.78775 \nL 343.299332 -97.78775 \nL 340.019993 -97.78775 \nL 336.740654 -97.78775 \nL 333.461315 -97.78775 \nL 330.181976 -97.78775 \nL 326.902637 -97.78775 \nL 323.623299 -97.78775 \nL 320.34396 -97.78775 \nL 317.064621 -97.78775 \nL 313.785282 -97.78775 \nL 310.505943 -97.78775 \nL 307.226604 -97.78775 \nL 303.947265 -97.78775 \nL 300.667927 -97.78775 \nL 297.388588 -97.78775 \nL 294.109249 -97.78775 \nL 290.82991 -97.78775 \nL 287.550571 -97.78775 \nL 284.271232 -97.78775 \nL 280.991894 -97.78775 \nL 277.712555 -97.78775 \nL 274.433216 -97.78775 \nL 271.153877 -97.78775 \nL 267.874538 -97.78775 \nL 264.595199 -97.78775 \nL 261.315861 -97.78775 \nL 258.036522 -97.78775 \nL 254.757183 -97.78775 \nL 251.477844 -97.78775 \nL 248.198505 -97.78775 \nL 244.919166 -97.78775 \nL 241.639827 -97.78775 \nL 238.360489 -97.78775 \nL 235.08115 -97.78775 \nL 231.801811 -97.78775 \nL 228.522472 -97.78775 \nL 225.243133 -97.78775 \nL 221.963794 -97.78775 \nL 218.684456 -97.78775 \nL 215.405117 -97.78775 \nL 212.125778 -97.78775 \nL 208.846439 -97.78775 \nL 205.5671 -97.78775 \nL 202.287761 -97.78775 \nL 199.008423 -97.78775 \nL 195.729084 -97.78775 \nL 192.449745 -97.78775 \nL 189.170406 -97.78775 \nL 185.891067 -97.78775 \nL 182.611728 -97.78775 \nL 179.332389 -97.78775 \nL 176.053051 -97.78775 \nL 172.773712 -97.78775 \nL 169.494373 -97.78775 \nL 166.215034 -97.78775 \nL 162.935695 -97.78775 \nL 159.656356 -97.78775 \nL 156.377018 -97.78775 \nL 153.097679 -97.78775 \nL 149.81834 -97.78775 \nL 146.539001 -97.78775 \nL 143.259662 -97.78775 \nL 139.980323 -97.78775 \nL 136.700985 -97.78775 \nL 133.421646 -97.78775 \nL 130.142307 -97.78775 \nL 126.862968 -97.78775 \nL 123.583629 -97.78775 \nL 120.30429 -97.78775 \nL 117.024951 -97.78775 \nL 113.745613 -97.78775 \nL 110.466274 -97.78775 \nL 107.186935 -97.78775 \nL 103.907596 -97.78775 \nL 100.628257 -97.78775 \nL 97.348918 -97.78775 \nL 94.06958 -97.78775 \nL 90.790241 -97.78775 \nL 87.510902 -97.78775 \nL 84.231563 -97.78775 \nL 80.952224 -97.78775 \nL 77.672885 -97.78775 \nL 74.393546 -97.78775 \nL 71.114208 -97.78775 \nL 67.834869 -97.78775 \nL 64.55553 -97.78775 \nL 61.276191 -97.78775 \nL 57.996852 -97.78775 \nz\n\" style=\"stroke: #ffffff; stroke-opacity: 0.3; stroke-width: 0.8\"/>\n    </defs>\n    <g clip-path=\"url(#p19e24f046c)\">\n     <use xlink:href=\"#m9721c8d318\" x=\"0\" y=\"323.91425\" style=\"fill: #1f77b4; fill-opacity: 0.3; stroke: #ffffff; stroke-opacity: 0.3; stroke-width: 0.8\"/>\n    </g>\n   </g>\n   <g id=\"line2d_29\">\n    <path d=\"M 57.996852 32.5905 \nL 61.276191 32.5905 \nL 64.55553 32.5905 \nL 67.834869 32.5905 \nL 71.114208 32.5905 \nL 74.393546 32.5905 \nL 77.672885 32.5905 \nL 80.952224 32.5905 \nL 84.231563 32.5905 \nL 87.510902 32.5905 \nL 90.790241 32.5905 \nL 94.06958 32.5905 \nL 97.348918 32.5905 \nL 100.628257 32.5905 \nL 103.907596 32.5905 \nL 107.186935 32.5905 \nL 110.466274 32.5905 \nL 113.745613 32.5905 \nL 117.024951 32.5905 \nL 120.30429 32.5905 \nL 123.583629 32.5905 \nL 126.862968 32.5905 \nL 130.142307 32.5905 \nL 133.421646 32.5905 \nL 136.700985 32.5905 \nL 139.980323 32.5905 \nL 143.259662 32.5905 \nL 146.539001 32.5905 \nL 149.81834 32.5905 \nL 153.097679 32.5905 \nL 156.377018 32.5905 \nL 159.656356 32.5905 \nL 162.935695 32.5905 \nL 166.215034 32.5905 \nL 169.494373 32.5905 \nL 172.773712 32.5905 \nL 176.053051 32.5905 \nL 179.332389 32.5905 \nL 182.611728 32.5905 \nL 185.891067 32.5905 \nL 189.170406 274.5105 \nL 192.449745 274.5105 \nL 195.729084 274.5105 \nL 199.008423 274.5105 \nL 202.287761 274.5105 \nL 205.5671 274.5105 \nL 208.846439 274.5105 \nL 212.125778 274.5105 \nL 215.405117 274.5105 \nL 218.684456 274.5105 \nL 221.963794 274.5105 \nL 225.243133 274.5105 \nL 228.522472 274.5105 \nL 231.801811 274.5105 \nL 235.08115 274.5105 \nL 238.360489 274.5105 \nL 241.639827 274.5105 \nL 244.919166 274.5105 \nL 248.198505 274.5105 \nL 251.477844 274.5105 \nL 254.757183 274.5105 \nL 258.036522 274.5105 \nL 261.315861 274.5105 \nL 264.595199 274.5105 \nL 267.874538 274.5105 \nL 271.153877 274.5105 \nL 274.433216 274.5105 \nL 277.712555 274.5105 \nL 280.991894 274.5105 \nL 284.271232 274.5105 \nL 287.550571 274.5105 \nL 290.82991 274.5105 \nL 294.109249 274.5105 \nL 297.388588 274.5105 \nL 300.667927 274.5105 \nL 303.947265 274.5105 \nL 307.226604 274.5105 \nL 310.505943 274.5105 \nL 313.785282 274.5105 \nL 317.064621 274.5105 \nL 320.34396 274.5105 \nL 323.623299 274.5105 \nL 326.902637 274.5105 \nL 330.181976 274.5105 \nL 333.461315 274.5105 \nL 336.740654 274.5105 \nL 340.019993 274.5105 \nL 343.299332 274.5105 \nL 346.57867 274.5105 \nL 349.858009 274.5105 \nL 353.137348 274.5105 \nL 356.416687 274.5105 \nL 359.696026 274.5105 \nL 362.975365 274.5105 \nL 366.254704 274.5105 \nL 369.534042 274.5105 \nL 372.813381 274.5105 \nL 376.09272 274.5105 \nL 379.372059 274.5105 \nL 382.651398 274.5105 \n\" clip-path=\"url(#p19e24f046c)\" style=\"fill: none; stroke: #1f77b4; stroke-width: 1.2; stroke-linecap: round\"/>\n   </g>\n   <g id=\"patch_3\">\n    <path d=\"M 41.764125 274.5105 \nL 41.764125 32.5905 \n\" style=\"fill: none; stroke: #262626; stroke-linejoin: miter; stroke-linecap: square\"/>\n   </g>\n   <g id=\"patch_4\">\n    <path d=\"M 57.996852 286.6065 \nL 361.007761 286.6065 \n\" style=\"fill: none; stroke: #262626; stroke-linejoin: miter; stroke-linecap: square\"/>\n   </g>\n   <g id=\"text_17\">\n    <!-- Shear Force Diagram -->\n    <g style=\"fill: #262626\" transform=\"translate(169.725375 14.4945) scale(0.096 -0.096)\">\n     <defs>\n      <path id=\"DejaVuSans-67\" d=\"M 2906 1791 \nQ 2906 2416 2648 2759 \nQ 2391 3103 1925 3103 \nQ 1463 3103 1205 2759 \nQ 947 2416 947 1791 \nQ 947 1169 1205 825 \nQ 1463 481 1925 481 \nQ 2391 481 2648 825 \nQ 2906 1169 2906 1791 \nz\nM 3481 434 \nQ 3481 -459 3084 -895 \nQ 2688 -1331 1869 -1331 \nQ 1566 -1331 1297 -1286 \nQ 1028 -1241 775 -1147 \nL 775 -588 \nQ 1028 -725 1275 -790 \nQ 1522 -856 1778 -856 \nQ 2344 -856 2625 -561 \nQ 2906 -266 2906 331 \nL 2906 616 \nQ 2728 306 2450 153 \nQ 2172 0 1784 0 \nQ 1141 0 747 490 \nQ 353 981 353 1791 \nQ 353 2603 747 3093 \nQ 1141 3584 1784 3584 \nQ 2172 3584 2450 3431 \nQ 2728 3278 2906 2969 \nL 2906 3500 \nL 3481 3500 \nL 3481 434 \nz\n\" transform=\"scale(0.015625)\"/>\n     </defs>\n     <use xlink:href=\"#DejaVuSans-53\"/>\n     <use xlink:href=\"#DejaVuSans-68\" transform=\"translate(63.476562 0)\"/>\n     <use xlink:href=\"#DejaVuSans-65\" transform=\"translate(126.855469 0)\"/>\n     <use xlink:href=\"#DejaVuSans-61\" transform=\"translate(188.378906 0)\"/>\n     <use xlink:href=\"#DejaVuSans-72\" transform=\"translate(249.658203 0)\"/>\n     <use xlink:href=\"#DejaVuSans-20\" transform=\"translate(290.771484 0)\"/>\n     <use xlink:href=\"#DejaVuSans-46\" transform=\"translate(322.558594 0)\"/>\n     <use xlink:href=\"#DejaVuSans-6f\" transform=\"translate(376.453125 0)\"/>\n     <use xlink:href=\"#DejaVuSans-72\" transform=\"translate(437.634766 0)\"/>\n     <use xlink:href=\"#DejaVuSans-63\" transform=\"translate(476.498047 0)\"/>\n     <use xlink:href=\"#DejaVuSans-65\" transform=\"translate(531.478516 0)\"/>\n     <use xlink:href=\"#DejaVuSans-20\" transform=\"translate(593.001953 0)\"/>\n     <use xlink:href=\"#DejaVuSans-44\" transform=\"translate(624.789062 0)\"/>\n     <use xlink:href=\"#DejaVuSans-69\" transform=\"translate(701.791016 0)\"/>\n     <use xlink:href=\"#DejaVuSans-61\" transform=\"translate(729.574219 0)\"/>\n     <use xlink:href=\"#DejaVuSans-67\" transform=\"translate(790.853516 0)\"/>\n     <use xlink:href=\"#DejaVuSans-72\" transform=\"translate(854.330078 0)\"/>\n     <use xlink:href=\"#DejaVuSans-61\" transform=\"translate(895.443359 0)\"/>\n     <use xlink:href=\"#DejaVuSans-6d\" transform=\"translate(956.722656 0)\"/>\n    </g>\n   </g>\n  </g>\n </g>\n <defs>\n  <clipPath id=\"p19e24f046c\">\n   <rect x=\"41.764125\" y=\"20.4945\" width=\"357.12\" height=\"266.112\"/>\n  </clipPath>\n </defs>\n</svg>\n"
          },
          "metadata": {}
        }
      ],
      "source": [
        "# Create a figure and axis\n",
        "fig, ax = plt.subplots()\n",
        "# Plot the shear force diagram\n",
        "ax.plot(x, shear)\n",
        "# Shades between the x-axis and our shear force curve\n",
        "ax.fill_between(x, shear, 0, alpha=0.3)\n",
        "ax.set_xlabel('Distance (m)')\n",
        "ax.set_ylabel('Shear Force (kN)')\n",
        "ax.set_title('Shear Force Diagram')\n",
        "ax.grid(True)\n",
        "sns.despine(trim=True)\n",
        "plt.show()"
      ]
    },
    {
      "cell_type": "markdown",
      "metadata": {
        "id": "Z-5dJeyzz9ru"
      },
      "source": [
        "I want you to make the plot for the bending moment diagram. Be careful with the applied moment at point C."
      ]
    },
    {
      "cell_type": "code",
      "execution_count": 106,
      "metadata": {
        "colab": {
          "base_uri": "https://localhost:8080/",
          "height": 453
        },
        "id": "Tywh9FkJz9ru",
        "outputId": "104cf6a0-f24d-4184-92d2-9666defa0053"
      },
      "outputs": [
        {
          "output_type": "display_data",
          "data": {
            "text/plain": [
              "<Figure size 640x480 with 1 Axes>"
            ],
            "image/svg+xml": "<?xml version=\"1.0\" encoding=\"utf-8\" standalone=\"no\"?>\n<!DOCTYPE svg PUBLIC \"-//W3C//DTD SVG 1.1//EN\"\n  \"http://www.w3.org/Graphics/SVG/1.1/DTD/svg11.dtd\">\n<svg xmlns:xlink=\"http://www.w3.org/1999/xlink\" width=\"404.309pt\" height=\"323.91425pt\" viewBox=\"0 0 404.309 323.91425\" xmlns=\"http://www.w3.org/2000/svg\" version=\"1.1\">\n <metadata>\n  <rdf:RDF xmlns:dc=\"http://purl.org/dc/elements/1.1/\" xmlns:cc=\"http://creativecommons.org/ns#\" xmlns:rdf=\"http://www.w3.org/1999/02/22-rdf-syntax-ns#\">\n   <cc:Work>\n    <dc:type rdf:resource=\"http://purl.org/dc/dcmitype/StillImage\"/>\n    <dc:date>2025-04-25T23:15:13.874190</dc:date>\n    <dc:format>image/svg+xml</dc:format>\n    <dc:creator>\n     <cc:Agent>\n      <dc:title>Matplotlib v3.10.0, https://matplotlib.org/</dc:title>\n     </cc:Agent>\n    </dc:creator>\n   </cc:Work>\n  </rdf:RDF>\n </metadata>\n <defs>\n  <style type=\"text/css\">*{stroke-linejoin: round; stroke-linecap: butt}</style>\n </defs>\n <g id=\"figure_1\">\n  <g id=\"patch_1\">\n   <path d=\"M 0 323.91425 \nL 404.309 323.91425 \nL 404.309 0 \nL 0 0 \nz\n\" style=\"fill: #ffffff\"/>\n  </g>\n  <g id=\"axes_1\">\n   <g id=\"patch_2\">\n    <path d=\"M 39.989 286.6065 \nL 397.109 286.6065 \nL 397.109 20.4945 \nL 39.989 20.4945 \nz\n\" style=\"fill: #ffffff\"/>\n   </g>\n   <g id=\"matplotlib.axis_1\">\n    <g id=\"xtick_1\">\n     <g id=\"line2d_1\">\n      <path d=\"M 56.221727 286.6065 \nL 56.221727 20.4945 \n\" clip-path=\"url(#pbaace7b8fa)\" style=\"fill: none; stroke: #cccccc; stroke-width: 0.8; stroke-linecap: round\"/>\n     </g>\n     <g id=\"line2d_2\">\n      <defs>\n       <path id=\"mb13c524f14\" d=\"M 0 0 \nL 0 4.8 \n\" style=\"stroke: #262626\"/>\n      </defs>\n      <g>\n       <use xlink:href=\"#mb13c524f14\" x=\"56.221727\" y=\"286.6065\" style=\"fill: #262626; stroke: #262626\"/>\n      </g>\n     </g>\n     <g id=\"text_1\">\n      <!-- 0 -->\n      <g style=\"fill: #262626\" transform=\"translate(53.422227 301.593125) scale(0.088 -0.088)\">\n       <defs>\n        <path id=\"DejaVuSans-30\" d=\"M 2034 4250 \nQ 1547 4250 1301 3770 \nQ 1056 3291 1056 2328 \nQ 1056 1369 1301 889 \nQ 1547 409 2034 409 \nQ 2525 409 2770 889 \nQ 3016 1369 3016 2328 \nQ 3016 3291 2770 3770 \nQ 2525 4250 2034 4250 \nz\nM 2034 4750 \nQ 2819 4750 3233 4129 \nQ 3647 3509 3647 2328 \nQ 3647 1150 3233 529 \nQ 2819 -91 2034 -91 \nQ 1250 -91 836 529 \nQ 422 1150 422 2328 \nQ 422 3509 836 4129 \nQ 1250 4750 2034 4750 \nz\n\" transform=\"scale(0.015625)\"/>\n       </defs>\n       <use xlink:href=\"#DejaVuSans-30\"/>\n      </g>\n     </g>\n    </g>\n    <g id=\"xtick_2\">\n     <g id=\"line2d_3\">\n      <path d=\"M 99.509 286.6065 \nL 99.509 20.4945 \n\" clip-path=\"url(#pbaace7b8fa)\" style=\"fill: none; stroke: #cccccc; stroke-width: 0.8; stroke-linecap: round\"/>\n     </g>\n     <g id=\"line2d_4\">\n      <g>\n       <use xlink:href=\"#mb13c524f14\" x=\"99.509\" y=\"286.6065\" style=\"fill: #262626; stroke: #262626\"/>\n      </g>\n     </g>\n     <g id=\"text_2\">\n      <!-- 2 -->\n      <g style=\"fill: #262626\" transform=\"translate(96.7095 301.593125) scale(0.088 -0.088)\">\n       <defs>\n        <path id=\"DejaVuSans-32\" d=\"M 1228 531 \nL 3431 531 \nL 3431 0 \nL 469 0 \nL 469 531 \nQ 828 903 1448 1529 \nQ 2069 2156 2228 2338 \nQ 2531 2678 2651 2914 \nQ 2772 3150 2772 3378 \nQ 2772 3750 2511 3984 \nQ 2250 4219 1831 4219 \nQ 1534 4219 1204 4116 \nQ 875 4013 500 3803 \nL 500 4441 \nQ 881 4594 1212 4672 \nQ 1544 4750 1819 4750 \nQ 2544 4750 2975 4387 \nQ 3406 4025 3406 3419 \nQ 3406 3131 3298 2873 \nQ 3191 2616 2906 2266 \nQ 2828 2175 2409 1742 \nQ 1991 1309 1228 531 \nz\n\" transform=\"scale(0.015625)\"/>\n       </defs>\n       <use xlink:href=\"#DejaVuSans-32\"/>\n      </g>\n     </g>\n    </g>\n    <g id=\"xtick_3\">\n     <g id=\"line2d_5\">\n      <path d=\"M 142.796273 286.6065 \nL 142.796273 20.4945 \n\" clip-path=\"url(#pbaace7b8fa)\" style=\"fill: none; stroke: #cccccc; stroke-width: 0.8; stroke-linecap: round\"/>\n     </g>\n     <g id=\"line2d_6\">\n      <g>\n       <use xlink:href=\"#mb13c524f14\" x=\"142.796273\" y=\"286.6065\" style=\"fill: #262626; stroke: #262626\"/>\n      </g>\n     </g>\n     <g id=\"text_3\">\n      <!-- 4 -->\n      <g style=\"fill: #262626\" transform=\"translate(139.996773 301.593125) scale(0.088 -0.088)\">\n       <defs>\n        <path id=\"DejaVuSans-34\" d=\"M 2419 4116 \nL 825 1625 \nL 2419 1625 \nL 2419 4116 \nz\nM 2253 4666 \nL 3047 4666 \nL 3047 1625 \nL 3713 1625 \nL 3713 1100 \nL 3047 1100 \nL 3047 0 \nL 2419 0 \nL 2419 1100 \nL 313 1100 \nL 313 1709 \nL 2253 4666 \nz\n\" transform=\"scale(0.015625)\"/>\n       </defs>\n       <use xlink:href=\"#DejaVuSans-34\"/>\n      </g>\n     </g>\n    </g>\n    <g id=\"xtick_4\">\n     <g id=\"line2d_7\">\n      <path d=\"M 186.083545 286.6065 \nL 186.083545 20.4945 \n\" clip-path=\"url(#pbaace7b8fa)\" style=\"fill: none; stroke: #cccccc; stroke-width: 0.8; stroke-linecap: round\"/>\n     </g>\n     <g id=\"line2d_8\">\n      <g>\n       <use xlink:href=\"#mb13c524f14\" x=\"186.083545\" y=\"286.6065\" style=\"fill: #262626; stroke: #262626\"/>\n      </g>\n     </g>\n     <g id=\"text_4\">\n      <!-- 6 -->\n      <g style=\"fill: #262626\" transform=\"translate(183.284045 301.593125) scale(0.088 -0.088)\">\n       <defs>\n        <path id=\"DejaVuSans-36\" d=\"M 2113 2584 \nQ 1688 2584 1439 2293 \nQ 1191 2003 1191 1497 \nQ 1191 994 1439 701 \nQ 1688 409 2113 409 \nQ 2538 409 2786 701 \nQ 3034 994 3034 1497 \nQ 3034 2003 2786 2293 \nQ 2538 2584 2113 2584 \nz\nM 3366 4563 \nL 3366 3988 \nQ 3128 4100 2886 4159 \nQ 2644 4219 2406 4219 \nQ 1781 4219 1451 3797 \nQ 1122 3375 1075 2522 \nQ 1259 2794 1537 2939 \nQ 1816 3084 2150 3084 \nQ 2853 3084 3261 2657 \nQ 3669 2231 3669 1497 \nQ 3669 778 3244 343 \nQ 2819 -91 2113 -91 \nQ 1303 -91 875 529 \nQ 447 1150 447 2328 \nQ 447 3434 972 4092 \nQ 1497 4750 2381 4750 \nQ 2619 4750 2861 4703 \nQ 3103 4656 3366 4563 \nz\n\" transform=\"scale(0.015625)\"/>\n       </defs>\n       <use xlink:href=\"#DejaVuSans-36\"/>\n      </g>\n     </g>\n    </g>\n    <g id=\"xtick_5\">\n     <g id=\"line2d_9\">\n      <path d=\"M 229.370818 286.6065 \nL 229.370818 20.4945 \n\" clip-path=\"url(#pbaace7b8fa)\" style=\"fill: none; stroke: #cccccc; stroke-width: 0.8; stroke-linecap: round\"/>\n     </g>\n     <g id=\"line2d_10\">\n      <g>\n       <use xlink:href=\"#mb13c524f14\" x=\"229.370818\" y=\"286.6065\" style=\"fill: #262626; stroke: #262626\"/>\n      </g>\n     </g>\n     <g id=\"text_5\">\n      <!-- 8 -->\n      <g style=\"fill: #262626\" transform=\"translate(226.571318 301.593125) scale(0.088 -0.088)\">\n       <defs>\n        <path id=\"DejaVuSans-38\" d=\"M 2034 2216 \nQ 1584 2216 1326 1975 \nQ 1069 1734 1069 1313 \nQ 1069 891 1326 650 \nQ 1584 409 2034 409 \nQ 2484 409 2743 651 \nQ 3003 894 3003 1313 \nQ 3003 1734 2745 1975 \nQ 2488 2216 2034 2216 \nz\nM 1403 2484 \nQ 997 2584 770 2862 \nQ 544 3141 544 3541 \nQ 544 4100 942 4425 \nQ 1341 4750 2034 4750 \nQ 2731 4750 3128 4425 \nQ 3525 4100 3525 3541 \nQ 3525 3141 3298 2862 \nQ 3072 2584 2669 2484 \nQ 3125 2378 3379 2068 \nQ 3634 1759 3634 1313 \nQ 3634 634 3220 271 \nQ 2806 -91 2034 -91 \nQ 1263 -91 848 271 \nQ 434 634 434 1313 \nQ 434 1759 690 2068 \nQ 947 2378 1403 2484 \nz\nM 1172 3481 \nQ 1172 3119 1398 2916 \nQ 1625 2713 2034 2713 \nQ 2441 2713 2670 2916 \nQ 2900 3119 2900 3481 \nQ 2900 3844 2670 4047 \nQ 2441 4250 2034 4250 \nQ 1625 4250 1398 4047 \nQ 1172 3844 1172 3481 \nz\n\" transform=\"scale(0.015625)\"/>\n       </defs>\n       <use xlink:href=\"#DejaVuSans-38\"/>\n      </g>\n     </g>\n    </g>\n    <g id=\"xtick_6\">\n     <g id=\"line2d_11\">\n      <path d=\"M 272.658091 286.6065 \nL 272.658091 20.4945 \n\" clip-path=\"url(#pbaace7b8fa)\" style=\"fill: none; stroke: #cccccc; stroke-width: 0.8; stroke-linecap: round\"/>\n     </g>\n     <g id=\"line2d_12\">\n      <g>\n       <use xlink:href=\"#mb13c524f14\" x=\"272.658091\" y=\"286.6065\" style=\"fill: #262626; stroke: #262626\"/>\n      </g>\n     </g>\n     <g id=\"text_6\">\n      <!-- 10 -->\n      <g style=\"fill: #262626\" transform=\"translate(267.059091 301.593125) scale(0.088 -0.088)\">\n       <defs>\n        <path id=\"DejaVuSans-31\" d=\"M 794 531 \nL 1825 531 \nL 1825 4091 \nL 703 3866 \nL 703 4441 \nL 1819 4666 \nL 2450 4666 \nL 2450 531 \nL 3481 531 \nL 3481 0 \nL 794 0 \nL 794 531 \nz\n\" transform=\"scale(0.015625)\"/>\n       </defs>\n       <use xlink:href=\"#DejaVuSans-31\"/>\n       <use xlink:href=\"#DejaVuSans-30\" transform=\"translate(63.623047 0)\"/>\n      </g>\n     </g>\n    </g>\n    <g id=\"xtick_7\">\n     <g id=\"line2d_13\">\n      <path d=\"M 315.945364 286.6065 \nL 315.945364 20.4945 \n\" clip-path=\"url(#pbaace7b8fa)\" style=\"fill: none; stroke: #cccccc; stroke-width: 0.8; stroke-linecap: round\"/>\n     </g>\n     <g id=\"line2d_14\">\n      <g>\n       <use xlink:href=\"#mb13c524f14\" x=\"315.945364\" y=\"286.6065\" style=\"fill: #262626; stroke: #262626\"/>\n      </g>\n     </g>\n     <g id=\"text_7\">\n      <!-- 12 -->\n      <g style=\"fill: #262626\" transform=\"translate(310.346364 301.593125) scale(0.088 -0.088)\">\n       <use xlink:href=\"#DejaVuSans-31\"/>\n       <use xlink:href=\"#DejaVuSans-32\" transform=\"translate(63.623047 0)\"/>\n      </g>\n     </g>\n    </g>\n    <g id=\"xtick_8\">\n     <g id=\"line2d_15\">\n      <path d=\"M 359.232636 286.6065 \nL 359.232636 20.4945 \n\" clip-path=\"url(#pbaace7b8fa)\" style=\"fill: none; stroke: #cccccc; stroke-width: 0.8; stroke-linecap: round\"/>\n     </g>\n     <g id=\"line2d_16\">\n      <g>\n       <use xlink:href=\"#mb13c524f14\" x=\"359.232636\" y=\"286.6065\" style=\"fill: #262626; stroke: #262626\"/>\n      </g>\n     </g>\n     <g id=\"text_8\">\n      <!-- 14 -->\n      <g style=\"fill: #262626\" transform=\"translate(353.633636 301.593125) scale(0.088 -0.088)\">\n       <use xlink:href=\"#DejaVuSans-31\"/>\n       <use xlink:href=\"#DejaVuSans-34\" transform=\"translate(63.623047 0)\"/>\n      </g>\n     </g>\n    </g>\n    <g id=\"text_9\">\n     <!-- Distance (m) -->\n     <g style=\"fill: #262626\" transform=\"translate(187.6145 314.71775) scale(0.096 -0.096)\">\n      <defs>\n       <path id=\"DejaVuSans-44\" d=\"M 1259 4147 \nL 1259 519 \nL 2022 519 \nQ 2988 519 3436 956 \nQ 3884 1394 3884 2338 \nQ 3884 3275 3436 3711 \nQ 2988 4147 2022 4147 \nL 1259 4147 \nz\nM 628 4666 \nL 1925 4666 \nQ 3281 4666 3915 4102 \nQ 4550 3538 4550 2338 \nQ 4550 1131 3912 565 \nQ 3275 0 1925 0 \nL 628 0 \nL 628 4666 \nz\n\" transform=\"scale(0.015625)\"/>\n       <path id=\"DejaVuSans-69\" d=\"M 603 3500 \nL 1178 3500 \nL 1178 0 \nL 603 0 \nL 603 3500 \nz\nM 603 4863 \nL 1178 4863 \nL 1178 4134 \nL 603 4134 \nL 603 4863 \nz\n\" transform=\"scale(0.015625)\"/>\n       <path id=\"DejaVuSans-73\" d=\"M 2834 3397 \nL 2834 2853 \nQ 2591 2978 2328 3040 \nQ 2066 3103 1784 3103 \nQ 1356 3103 1142 2972 \nQ 928 2841 928 2578 \nQ 928 2378 1081 2264 \nQ 1234 2150 1697 2047 \nL 1894 2003 \nQ 2506 1872 2764 1633 \nQ 3022 1394 3022 966 \nQ 3022 478 2636 193 \nQ 2250 -91 1575 -91 \nQ 1294 -91 989 -36 \nQ 684 19 347 128 \nL 347 722 \nQ 666 556 975 473 \nQ 1284 391 1588 391 \nQ 1994 391 2212 530 \nQ 2431 669 2431 922 \nQ 2431 1156 2273 1281 \nQ 2116 1406 1581 1522 \nL 1381 1569 \nQ 847 1681 609 1914 \nQ 372 2147 372 2553 \nQ 372 3047 722 3315 \nQ 1072 3584 1716 3584 \nQ 2034 3584 2315 3537 \nQ 2597 3491 2834 3397 \nz\n\" transform=\"scale(0.015625)\"/>\n       <path id=\"DejaVuSans-74\" d=\"M 1172 4494 \nL 1172 3500 \nL 2356 3500 \nL 2356 3053 \nL 1172 3053 \nL 1172 1153 \nQ 1172 725 1289 603 \nQ 1406 481 1766 481 \nL 2356 481 \nL 2356 0 \nL 1766 0 \nQ 1100 0 847 248 \nQ 594 497 594 1153 \nL 594 3053 \nL 172 3053 \nL 172 3500 \nL 594 3500 \nL 594 4494 \nL 1172 4494 \nz\n\" transform=\"scale(0.015625)\"/>\n       <path id=\"DejaVuSans-61\" d=\"M 2194 1759 \nQ 1497 1759 1228 1600 \nQ 959 1441 959 1056 \nQ 959 750 1161 570 \nQ 1363 391 1709 391 \nQ 2188 391 2477 730 \nQ 2766 1069 2766 1631 \nL 2766 1759 \nL 2194 1759 \nz\nM 3341 1997 \nL 3341 0 \nL 2766 0 \nL 2766 531 \nQ 2569 213 2275 61 \nQ 1981 -91 1556 -91 \nQ 1019 -91 701 211 \nQ 384 513 384 1019 \nQ 384 1609 779 1909 \nQ 1175 2209 1959 2209 \nL 2766 2209 \nL 2766 2266 \nQ 2766 2663 2505 2880 \nQ 2244 3097 1772 3097 \nQ 1472 3097 1187 3025 \nQ 903 2953 641 2809 \nL 641 3341 \nQ 956 3463 1253 3523 \nQ 1550 3584 1831 3584 \nQ 2591 3584 2966 3190 \nQ 3341 2797 3341 1997 \nz\n\" transform=\"scale(0.015625)\"/>\n       <path id=\"DejaVuSans-6e\" d=\"M 3513 2113 \nL 3513 0 \nL 2938 0 \nL 2938 2094 \nQ 2938 2591 2744 2837 \nQ 2550 3084 2163 3084 \nQ 1697 3084 1428 2787 \nQ 1159 2491 1159 1978 \nL 1159 0 \nL 581 0 \nL 581 3500 \nL 1159 3500 \nL 1159 2956 \nQ 1366 3272 1645 3428 \nQ 1925 3584 2291 3584 \nQ 2894 3584 3203 3211 \nQ 3513 2838 3513 2113 \nz\n\" transform=\"scale(0.015625)\"/>\n       <path id=\"DejaVuSans-63\" d=\"M 3122 3366 \nL 3122 2828 \nQ 2878 2963 2633 3030 \nQ 2388 3097 2138 3097 \nQ 1578 3097 1268 2742 \nQ 959 2388 959 1747 \nQ 959 1106 1268 751 \nQ 1578 397 2138 397 \nQ 2388 397 2633 464 \nQ 2878 531 3122 666 \nL 3122 134 \nQ 2881 22 2623 -34 \nQ 2366 -91 2075 -91 \nQ 1284 -91 818 406 \nQ 353 903 353 1747 \nQ 353 2603 823 3093 \nQ 1294 3584 2113 3584 \nQ 2378 3584 2631 3529 \nQ 2884 3475 3122 3366 \nz\n\" transform=\"scale(0.015625)\"/>\n       <path id=\"DejaVuSans-65\" d=\"M 3597 1894 \nL 3597 1613 \nL 953 1613 \nQ 991 1019 1311 708 \nQ 1631 397 2203 397 \nQ 2534 397 2845 478 \nQ 3156 559 3463 722 \nL 3463 178 \nQ 3153 47 2828 -22 \nQ 2503 -91 2169 -91 \nQ 1331 -91 842 396 \nQ 353 884 353 1716 \nQ 353 2575 817 3079 \nQ 1281 3584 2069 3584 \nQ 2775 3584 3186 3129 \nQ 3597 2675 3597 1894 \nz\nM 3022 2063 \nQ 3016 2534 2758 2815 \nQ 2500 3097 2075 3097 \nQ 1594 3097 1305 2825 \nQ 1016 2553 972 2059 \nL 3022 2063 \nz\n\" transform=\"scale(0.015625)\"/>\n       <path id=\"DejaVuSans-20\" transform=\"scale(0.015625)\"/>\n       <path id=\"DejaVuSans-28\" d=\"M 1984 4856 \nQ 1566 4138 1362 3434 \nQ 1159 2731 1159 2009 \nQ 1159 1288 1364 580 \nQ 1569 -128 1984 -844 \nL 1484 -844 \nQ 1016 -109 783 600 \nQ 550 1309 550 2009 \nQ 550 2706 781 3412 \nQ 1013 4119 1484 4856 \nL 1984 4856 \nz\n\" transform=\"scale(0.015625)\"/>\n       <path id=\"DejaVuSans-6d\" d=\"M 3328 2828 \nQ 3544 3216 3844 3400 \nQ 4144 3584 4550 3584 \nQ 5097 3584 5394 3201 \nQ 5691 2819 5691 2113 \nL 5691 0 \nL 5113 0 \nL 5113 2094 \nQ 5113 2597 4934 2840 \nQ 4756 3084 4391 3084 \nQ 3944 3084 3684 2787 \nQ 3425 2491 3425 1978 \nL 3425 0 \nL 2847 0 \nL 2847 2094 \nQ 2847 2600 2669 2842 \nQ 2491 3084 2119 3084 \nQ 1678 3084 1418 2786 \nQ 1159 2488 1159 1978 \nL 1159 0 \nL 581 0 \nL 581 3500 \nL 1159 3500 \nL 1159 2956 \nQ 1356 3278 1631 3431 \nQ 1906 3584 2284 3584 \nQ 2666 3584 2933 3390 \nQ 3200 3197 3328 2828 \nz\n\" transform=\"scale(0.015625)\"/>\n       <path id=\"DejaVuSans-29\" d=\"M 513 4856 \nL 1013 4856 \nQ 1481 4119 1714 3412 \nQ 1947 2706 1947 2009 \nQ 1947 1309 1714 600 \nQ 1481 -109 1013 -844 \nL 513 -844 \nQ 928 -128 1133 580 \nQ 1338 1288 1338 2009 \nQ 1338 2731 1133 3434 \nQ 928 4138 513 4856 \nz\n\" transform=\"scale(0.015625)\"/>\n      </defs>\n      <use xlink:href=\"#DejaVuSans-44\"/>\n      <use xlink:href=\"#DejaVuSans-69\" transform=\"translate(77.001953 0)\"/>\n      <use xlink:href=\"#DejaVuSans-73\" transform=\"translate(104.785156 0)\"/>\n      <use xlink:href=\"#DejaVuSans-74\" transform=\"translate(156.884766 0)\"/>\n      <use xlink:href=\"#DejaVuSans-61\" transform=\"translate(196.09375 0)\"/>\n      <use xlink:href=\"#DejaVuSans-6e\" transform=\"translate(257.373047 0)\"/>\n      <use xlink:href=\"#DejaVuSans-63\" transform=\"translate(320.751953 0)\"/>\n      <use xlink:href=\"#DejaVuSans-65\" transform=\"translate(375.732422 0)\"/>\n      <use xlink:href=\"#DejaVuSans-20\" transform=\"translate(437.255859 0)\"/>\n      <use xlink:href=\"#DejaVuSans-28\" transform=\"translate(469.042969 0)\"/>\n      <use xlink:href=\"#DejaVuSans-6d\" transform=\"translate(508.056641 0)\"/>\n      <use xlink:href=\"#DejaVuSans-29\" transform=\"translate(605.46875 0)\"/>\n     </g>\n    </g>\n   </g>\n   <g id=\"matplotlib.axis_2\">\n    <g id=\"ytick_1\">\n     <g id=\"line2d_17\">\n      <path d=\"M 39.989 274.5105 \nL 397.109 274.5105 \n\" clip-path=\"url(#pbaace7b8fa)\" style=\"fill: none; stroke: #cccccc; stroke-width: 0.8; stroke-linecap: round\"/>\n     </g>\n     <g id=\"line2d_18\">\n      <defs>\n       <path id=\"m496b6ac9ac\" d=\"M 0 0 \nL -4.8 0 \n\" style=\"stroke: #262626\"/>\n      </defs>\n      <g>\n       <use xlink:href=\"#m496b6ac9ac\" x=\"39.989\" y=\"274.5105\" style=\"fill: #262626; stroke: #262626\"/>\n      </g>\n     </g>\n     <g id=\"text_10\">\n      <!-- 0 -->\n      <g style=\"fill: #262626\" transform=\"translate(26.09 277.853812) scale(0.088 -0.088)\">\n       <use xlink:href=\"#DejaVuSans-30\"/>\n      </g>\n     </g>\n    </g>\n    <g id=\"ytick_2\">\n     <g id=\"line2d_19\">\n      <path d=\"M 39.989 240.825437 \nL 397.109 240.825437 \n\" clip-path=\"url(#pbaace7b8fa)\" style=\"fill: none; stroke: #cccccc; stroke-width: 0.8; stroke-linecap: round\"/>\n     </g>\n     <g id=\"line2d_20\">\n      <g>\n       <use xlink:href=\"#m496b6ac9ac\" x=\"39.989\" y=\"240.825437\" style=\"fill: #262626; stroke: #262626\"/>\n      </g>\n     </g>\n     <g id=\"text_11\">\n      <!-- 10 -->\n      <g style=\"fill: #262626\" transform=\"translate(20.491 244.168749) scale(0.088 -0.088)\">\n       <use xlink:href=\"#DejaVuSans-31\"/>\n       <use xlink:href=\"#DejaVuSans-30\" transform=\"translate(63.623047 0)\"/>\n      </g>\n     </g>\n    </g>\n    <g id=\"ytick_3\">\n     <g id=\"line2d_21\">\n      <path d=\"M 39.989 207.140373 \nL 397.109 207.140373 \n\" clip-path=\"url(#pbaace7b8fa)\" style=\"fill: none; stroke: #cccccc; stroke-width: 0.8; stroke-linecap: round\"/>\n     </g>\n     <g id=\"line2d_22\">\n      <g>\n       <use xlink:href=\"#m496b6ac9ac\" x=\"39.989\" y=\"207.140373\" style=\"fill: #262626; stroke: #262626\"/>\n      </g>\n     </g>\n     <g id=\"text_12\">\n      <!-- 20 -->\n      <g style=\"fill: #262626\" transform=\"translate(20.491 210.483686) scale(0.088 -0.088)\">\n       <use xlink:href=\"#DejaVuSans-32\"/>\n       <use xlink:href=\"#DejaVuSans-30\" transform=\"translate(63.623047 0)\"/>\n      </g>\n     </g>\n    </g>\n    <g id=\"ytick_4\">\n     <g id=\"line2d_23\">\n      <path d=\"M 39.989 173.45531 \nL 397.109 173.45531 \n\" clip-path=\"url(#pbaace7b8fa)\" style=\"fill: none; stroke: #cccccc; stroke-width: 0.8; stroke-linecap: round\"/>\n     </g>\n     <g id=\"line2d_24\">\n      <g>\n       <use xlink:href=\"#m496b6ac9ac\" x=\"39.989\" y=\"173.45531\" style=\"fill: #262626; stroke: #262626\"/>\n      </g>\n     </g>\n     <g id=\"text_13\">\n      <!-- 30 -->\n      <g style=\"fill: #262626\" transform=\"translate(20.491 176.798623) scale(0.088 -0.088)\">\n       <defs>\n        <path id=\"DejaVuSans-33\" d=\"M 2597 2516 \nQ 3050 2419 3304 2112 \nQ 3559 1806 3559 1356 \nQ 3559 666 3084 287 \nQ 2609 -91 1734 -91 \nQ 1441 -91 1130 -33 \nQ 819 25 488 141 \nL 488 750 \nQ 750 597 1062 519 \nQ 1375 441 1716 441 \nQ 2309 441 2620 675 \nQ 2931 909 2931 1356 \nQ 2931 1769 2642 2001 \nQ 2353 2234 1838 2234 \nL 1294 2234 \nL 1294 2753 \nL 1863 2753 \nQ 2328 2753 2575 2939 \nQ 2822 3125 2822 3475 \nQ 2822 3834 2567 4026 \nQ 2313 4219 1838 4219 \nQ 1578 4219 1281 4162 \nQ 984 4106 628 3988 \nL 628 4550 \nQ 988 4650 1302 4700 \nQ 1616 4750 1894 4750 \nQ 2613 4750 3031 4423 \nQ 3450 4097 3450 3541 \nQ 3450 3153 3228 2886 \nQ 3006 2619 2597 2516 \nz\n\" transform=\"scale(0.015625)\"/>\n       </defs>\n       <use xlink:href=\"#DejaVuSans-33\"/>\n       <use xlink:href=\"#DejaVuSans-30\" transform=\"translate(63.623047 0)\"/>\n      </g>\n     </g>\n    </g>\n    <g id=\"ytick_5\">\n     <g id=\"line2d_25\">\n      <path d=\"M 39.989 139.770247 \nL 397.109 139.770247 \n\" clip-path=\"url(#pbaace7b8fa)\" style=\"fill: none; stroke: #cccccc; stroke-width: 0.8; stroke-linecap: round\"/>\n     </g>\n     <g id=\"line2d_26\">\n      <g>\n       <use xlink:href=\"#m496b6ac9ac\" x=\"39.989\" y=\"139.770247\" style=\"fill: #262626; stroke: #262626\"/>\n      </g>\n     </g>\n     <g id=\"text_14\">\n      <!-- 40 -->\n      <g style=\"fill: #262626\" transform=\"translate(20.491 143.113559) scale(0.088 -0.088)\">\n       <use xlink:href=\"#DejaVuSans-34\"/>\n       <use xlink:href=\"#DejaVuSans-30\" transform=\"translate(63.623047 0)\"/>\n      </g>\n     </g>\n    </g>\n    <g id=\"ytick_6\">\n     <g id=\"line2d_27\">\n      <path d=\"M 39.989 106.085184 \nL 397.109 106.085184 \n\" clip-path=\"url(#pbaace7b8fa)\" style=\"fill: none; stroke: #cccccc; stroke-width: 0.8; stroke-linecap: round\"/>\n     </g>\n     <g id=\"line2d_28\">\n      <g>\n       <use xlink:href=\"#m496b6ac9ac\" x=\"39.989\" y=\"106.085184\" style=\"fill: #262626; stroke: #262626\"/>\n      </g>\n     </g>\n     <g id=\"text_15\">\n      <!-- 50 -->\n      <g style=\"fill: #262626\" transform=\"translate(20.491 109.428496) scale(0.088 -0.088)\">\n       <defs>\n        <path id=\"DejaVuSans-35\" d=\"M 691 4666 \nL 3169 4666 \nL 3169 4134 \nL 1269 4134 \nL 1269 2991 \nQ 1406 3038 1543 3061 \nQ 1681 3084 1819 3084 \nQ 2600 3084 3056 2656 \nQ 3513 2228 3513 1497 \nQ 3513 744 3044 326 \nQ 2575 -91 1722 -91 \nQ 1428 -91 1123 -41 \nQ 819 9 494 109 \nL 494 744 \nQ 775 591 1075 516 \nQ 1375 441 1709 441 \nQ 2250 441 2565 725 \nQ 2881 1009 2881 1497 \nQ 2881 1984 2565 2268 \nQ 2250 2553 1709 2553 \nQ 1456 2553 1204 2497 \nQ 953 2441 691 2322 \nL 691 4666 \nz\n\" transform=\"scale(0.015625)\"/>\n       </defs>\n       <use xlink:href=\"#DejaVuSans-35\"/>\n       <use xlink:href=\"#DejaVuSans-30\" transform=\"translate(63.623047 0)\"/>\n      </g>\n     </g>\n    </g>\n    <g id=\"ytick_7\">\n     <g id=\"line2d_29\">\n      <path d=\"M 39.989 72.40012 \nL 397.109 72.40012 \n\" clip-path=\"url(#pbaace7b8fa)\" style=\"fill: none; stroke: #cccccc; stroke-width: 0.8; stroke-linecap: round\"/>\n     </g>\n     <g id=\"line2d_30\">\n      <g>\n       <use xlink:href=\"#m496b6ac9ac\" x=\"39.989\" y=\"72.40012\" style=\"fill: #262626; stroke: #262626\"/>\n      </g>\n     </g>\n     <g id=\"text_16\">\n      <!-- 60 -->\n      <g style=\"fill: #262626\" transform=\"translate(20.491 75.743433) scale(0.088 -0.088)\">\n       <use xlink:href=\"#DejaVuSans-36\"/>\n       <use xlink:href=\"#DejaVuSans-30\" transform=\"translate(63.623047 0)\"/>\n      </g>\n     </g>\n    </g>\n    <g id=\"ytick_8\">\n     <g id=\"line2d_31\">\n      <path d=\"M 39.989 38.715057 \nL 397.109 38.715057 \n\" clip-path=\"url(#pbaace7b8fa)\" style=\"fill: none; stroke: #cccccc; stroke-width: 0.8; stroke-linecap: round\"/>\n     </g>\n     <g id=\"line2d_32\">\n      <g>\n       <use xlink:href=\"#m496b6ac9ac\" x=\"39.989\" y=\"38.715057\" style=\"fill: #262626; stroke: #262626\"/>\n      </g>\n     </g>\n     <g id=\"text_17\">\n      <!-- 70 -->\n      <g style=\"fill: #262626\" transform=\"translate(20.491 42.058369) scale(0.088 -0.088)\">\n       <defs>\n        <path id=\"DejaVuSans-37\" d=\"M 525 4666 \nL 3525 4666 \nL 3525 4397 \nL 1831 0 \nL 1172 0 \nL 2766 4134 \nL 525 4134 \nL 525 4666 \nz\n\" transform=\"scale(0.015625)\"/>\n       </defs>\n       <use xlink:href=\"#DejaVuSans-37\"/>\n       <use xlink:href=\"#DejaVuSans-30\" transform=\"translate(63.623047 0)\"/>\n      </g>\n     </g>\n    </g>\n    <g id=\"text_18\">\n     <!-- Bending Moment (kN·m) -->\n     <g style=\"fill: #262626\" transform=\"translate(14.4945 212.3085) rotate(-90) scale(0.096 -0.096)\">\n      <defs>\n       <path id=\"DejaVuSans-42\" d=\"M 1259 2228 \nL 1259 519 \nL 2272 519 \nQ 2781 519 3026 730 \nQ 3272 941 3272 1375 \nQ 3272 1813 3026 2020 \nQ 2781 2228 2272 2228 \nL 1259 2228 \nz\nM 1259 4147 \nL 1259 2741 \nL 2194 2741 \nQ 2656 2741 2882 2914 \nQ 3109 3088 3109 3444 \nQ 3109 3797 2882 3972 \nQ 2656 4147 2194 4147 \nL 1259 4147 \nz\nM 628 4666 \nL 2241 4666 \nQ 2963 4666 3353 4366 \nQ 3744 4066 3744 3513 \nQ 3744 3084 3544 2831 \nQ 3344 2578 2956 2516 \nQ 3422 2416 3680 2098 \nQ 3938 1781 3938 1306 \nQ 3938 681 3513 340 \nQ 3088 0 2303 0 \nL 628 0 \nL 628 4666 \nz\n\" transform=\"scale(0.015625)\"/>\n       <path id=\"DejaVuSans-64\" d=\"M 2906 2969 \nL 2906 4863 \nL 3481 4863 \nL 3481 0 \nL 2906 0 \nL 2906 525 \nQ 2725 213 2448 61 \nQ 2172 -91 1784 -91 \nQ 1150 -91 751 415 \nQ 353 922 353 1747 \nQ 353 2572 751 3078 \nQ 1150 3584 1784 3584 \nQ 2172 3584 2448 3432 \nQ 2725 3281 2906 2969 \nz\nM 947 1747 \nQ 947 1113 1208 752 \nQ 1469 391 1925 391 \nQ 2381 391 2643 752 \nQ 2906 1113 2906 1747 \nQ 2906 2381 2643 2742 \nQ 2381 3103 1925 3103 \nQ 1469 3103 1208 2742 \nQ 947 2381 947 1747 \nz\n\" transform=\"scale(0.015625)\"/>\n       <path id=\"DejaVuSans-67\" d=\"M 2906 1791 \nQ 2906 2416 2648 2759 \nQ 2391 3103 1925 3103 \nQ 1463 3103 1205 2759 \nQ 947 2416 947 1791 \nQ 947 1169 1205 825 \nQ 1463 481 1925 481 \nQ 2391 481 2648 825 \nQ 2906 1169 2906 1791 \nz\nM 3481 434 \nQ 3481 -459 3084 -895 \nQ 2688 -1331 1869 -1331 \nQ 1566 -1331 1297 -1286 \nQ 1028 -1241 775 -1147 \nL 775 -588 \nQ 1028 -725 1275 -790 \nQ 1522 -856 1778 -856 \nQ 2344 -856 2625 -561 \nQ 2906 -266 2906 331 \nL 2906 616 \nQ 2728 306 2450 153 \nQ 2172 0 1784 0 \nQ 1141 0 747 490 \nQ 353 981 353 1791 \nQ 353 2603 747 3093 \nQ 1141 3584 1784 3584 \nQ 2172 3584 2450 3431 \nQ 2728 3278 2906 2969 \nL 2906 3500 \nL 3481 3500 \nL 3481 434 \nz\n\" transform=\"scale(0.015625)\"/>\n       <path id=\"DejaVuSans-4d\" d=\"M 628 4666 \nL 1569 4666 \nL 2759 1491 \nL 3956 4666 \nL 4897 4666 \nL 4897 0 \nL 4281 0 \nL 4281 4097 \nL 3078 897 \nL 2444 897 \nL 1241 4097 \nL 1241 0 \nL 628 0 \nL 628 4666 \nz\n\" transform=\"scale(0.015625)\"/>\n       <path id=\"DejaVuSans-6f\" d=\"M 1959 3097 \nQ 1497 3097 1228 2736 \nQ 959 2375 959 1747 \nQ 959 1119 1226 758 \nQ 1494 397 1959 397 \nQ 2419 397 2687 759 \nQ 2956 1122 2956 1747 \nQ 2956 2369 2687 2733 \nQ 2419 3097 1959 3097 \nz\nM 1959 3584 \nQ 2709 3584 3137 3096 \nQ 3566 2609 3566 1747 \nQ 3566 888 3137 398 \nQ 2709 -91 1959 -91 \nQ 1206 -91 779 398 \nQ 353 888 353 1747 \nQ 353 2609 779 3096 \nQ 1206 3584 1959 3584 \nz\n\" transform=\"scale(0.015625)\"/>\n       <path id=\"DejaVuSans-6b\" d=\"M 581 4863 \nL 1159 4863 \nL 1159 1991 \nL 2875 3500 \nL 3609 3500 \nL 1753 1863 \nL 3688 0 \nL 2938 0 \nL 1159 1709 \nL 1159 0 \nL 581 0 \nL 581 4863 \nz\n\" transform=\"scale(0.015625)\"/>\n       <path id=\"DejaVuSans-4e\" d=\"M 628 4666 \nL 1478 4666 \nL 3547 763 \nL 3547 4666 \nL 4159 4666 \nL 4159 0 \nL 3309 0 \nL 1241 3903 \nL 1241 0 \nL 628 0 \nL 628 4666 \nz\n\" transform=\"scale(0.015625)\"/>\n       <path id=\"DejaVuSans-b7\" d=\"M 684 2619 \nL 1344 2619 \nL 1344 1825 \nL 684 1825 \nL 684 2619 \nz\n\" transform=\"scale(0.015625)\"/>\n      </defs>\n      <use xlink:href=\"#DejaVuSans-42\"/>\n      <use xlink:href=\"#DejaVuSans-65\" transform=\"translate(68.603516 0)\"/>\n      <use xlink:href=\"#DejaVuSans-6e\" transform=\"translate(130.126953 0)\"/>\n      <use xlink:href=\"#DejaVuSans-64\" transform=\"translate(193.505859 0)\"/>\n      <use xlink:href=\"#DejaVuSans-69\" transform=\"translate(256.982422 0)\"/>\n      <use xlink:href=\"#DejaVuSans-6e\" transform=\"translate(284.765625 0)\"/>\n      <use xlink:href=\"#DejaVuSans-67\" transform=\"translate(348.144531 0)\"/>\n      <use xlink:href=\"#DejaVuSans-20\" transform=\"translate(411.621094 0)\"/>\n      <use xlink:href=\"#DejaVuSans-4d\" transform=\"translate(443.408203 0)\"/>\n      <use xlink:href=\"#DejaVuSans-6f\" transform=\"translate(529.6875 0)\"/>\n      <use xlink:href=\"#DejaVuSans-6d\" transform=\"translate(590.869141 0)\"/>\n      <use xlink:href=\"#DejaVuSans-65\" transform=\"translate(688.28125 0)\"/>\n      <use xlink:href=\"#DejaVuSans-6e\" transform=\"translate(749.804688 0)\"/>\n      <use xlink:href=\"#DejaVuSans-74\" transform=\"translate(813.183594 0)\"/>\n      <use xlink:href=\"#DejaVuSans-20\" transform=\"translate(852.392578 0)\"/>\n      <use xlink:href=\"#DejaVuSans-28\" transform=\"translate(884.179688 0)\"/>\n      <use xlink:href=\"#DejaVuSans-6b\" transform=\"translate(923.193359 0)\"/>\n      <use xlink:href=\"#DejaVuSans-4e\" transform=\"translate(981.103516 0)\"/>\n      <use xlink:href=\"#DejaVuSans-b7\" transform=\"translate(1055.908203 0)\"/>\n      <use xlink:href=\"#DejaVuSans-6d\" transform=\"translate(1087.695312 0)\"/>\n      <use xlink:href=\"#DejaVuSans-29\" transform=\"translate(1185.107422 0)\"/>\n     </g>\n    </g>\n   </g>\n   <g id=\"FillBetweenPolyCollection_1\">\n    <defs>\n     <path id=\"m90e0d51757\" d=\"M 56.221727 -49.40375 \nL 56.221727 -49.40375 \nL 59.501066 -53.486788 \nL 62.780405 -57.569826 \nL 66.059744 -61.652864 \nL 69.339083 -65.735902 \nL 72.618421 -69.81894 \nL 75.89776 -73.901978 \nL 79.177099 -77.985016 \nL 82.456438 -82.068054 \nL 85.735777 -86.151092 \nL 89.015116 -90.23413 \nL 92.294455 -94.317168 \nL 95.573793 -98.400206 \nL 98.853132 -102.483244 \nL 102.132471 -106.566282 \nL 105.41181 -110.64932 \nL 108.691149 -114.732358 \nL 111.970488 -118.815396 \nL 115.249826 -122.898434 \nL 118.529165 -126.981472 \nL 121.808504 -131.064509 \nL 125.087843 -135.147547 \nL 128.367182 -139.230585 \nL 131.646521 -143.313623 \nL 134.92586 -147.396661 \nL 138.205198 -151.479699 \nL 141.484537 -155.562737 \nL 144.763876 -159.645775 \nL 148.043215 -163.728813 \nL 151.322554 -167.811851 \nL 154.601893 -171.894889 \nL 157.881231 -175.977927 \nL 161.16057 -180.060965 \nL 164.439909 -184.144003 \nL 167.719248 -188.227041 \nL 170.998587 -192.310079 \nL 174.277926 -196.393117 \nL 177.557264 -200.476155 \nL 180.836603 -204.559193 \nL 184.115942 -208.642231 \nL 187.395281 -210.68375 \nL 190.67462 -209.662991 \nL 193.953959 -208.642231 \nL 197.233298 -207.621472 \nL 200.512636 -206.600712 \nL 203.791975 -205.579953 \nL 207.071314 -204.559193 \nL 210.350653 -203.538434 \nL 213.629992 -202.517674 \nL 216.909331 -201.496915 \nL 220.188669 -200.476155 \nL 223.468008 -199.455396 \nL 226.747347 -198.434636 \nL 230.026686 -197.413877 \nL 233.306025 -196.393117 \nL 236.585364 -195.372358 \nL 239.864702 -194.351598 \nL 243.144041 -193.330839 \nL 246.42338 -192.310079 \nL 249.702719 -191.28932 \nL 252.982058 -291.32375 \nL 256.261397 -290.302991 \nL 259.540736 -289.282231 \nL 262.820074 -288.261472 \nL 266.099413 -287.240712 \nL 269.378752 -286.219953 \nL 272.658091 -285.199193 \nL 275.93743 -284.178434 \nL 279.216769 -283.157674 \nL 282.496107 -282.136915 \nL 285.775446 -281.116155 \nL 289.054785 -280.095396 \nL 292.334124 -279.074636 \nL 295.613463 -278.053877 \nL 298.892802 -277.033117 \nL 302.17214 -276.012358 \nL 305.451479 -274.991598 \nL 308.730818 -273.970839 \nL 312.010157 -272.950079 \nL 315.289496 -271.92932 \nL 318.568835 -270.90856 \nL 321.848174 -269.887801 \nL 325.127512 -268.867041 \nL 328.406851 -267.846282 \nL 331.68619 -266.825522 \nL 334.965529 -265.804763 \nL 338.244868 -264.784003 \nL 341.524207 -263.763244 \nL 344.803545 -262.742484 \nL 348.082884 -261.721725 \nL 351.362223 -260.700965 \nL 354.641562 -259.680206 \nL 357.920901 -258.659446 \nL 361.20024 -257.638687 \nL 364.479579 -256.617927 \nL 367.758917 -255.597168 \nL 371.038256 -254.576408 \nL 374.317595 -253.555649 \nL 377.596934 -252.534889 \nL 380.876273 -251.51413 \nL 380.876273 -49.40375 \nL 380.876273 -49.40375 \nL 377.596934 -49.40375 \nL 374.317595 -49.40375 \nL 371.038256 -49.40375 \nL 367.758917 -49.40375 \nL 364.479579 -49.40375 \nL 361.20024 -49.40375 \nL 357.920901 -49.40375 \nL 354.641562 -49.40375 \nL 351.362223 -49.40375 \nL 348.082884 -49.40375 \nL 344.803545 -49.40375 \nL 341.524207 -49.40375 \nL 338.244868 -49.40375 \nL 334.965529 -49.40375 \nL 331.68619 -49.40375 \nL 328.406851 -49.40375 \nL 325.127512 -49.40375 \nL 321.848174 -49.40375 \nL 318.568835 -49.40375 \nL 315.289496 -49.40375 \nL 312.010157 -49.40375 \nL 308.730818 -49.40375 \nL 305.451479 -49.40375 \nL 302.17214 -49.40375 \nL 298.892802 -49.40375 \nL 295.613463 -49.40375 \nL 292.334124 -49.40375 \nL 289.054785 -49.40375 \nL 285.775446 -49.40375 \nL 282.496107 -49.40375 \nL 279.216769 -49.40375 \nL 275.93743 -49.40375 \nL 272.658091 -49.40375 \nL 269.378752 -49.40375 \nL 266.099413 -49.40375 \nL 262.820074 -49.40375 \nL 259.540736 -49.40375 \nL 256.261397 -49.40375 \nL 252.982058 -49.40375 \nL 249.702719 -49.40375 \nL 246.42338 -49.40375 \nL 243.144041 -49.40375 \nL 239.864702 -49.40375 \nL 236.585364 -49.40375 \nL 233.306025 -49.40375 \nL 230.026686 -49.40375 \nL 226.747347 -49.40375 \nL 223.468008 -49.40375 \nL 220.188669 -49.40375 \nL 216.909331 -49.40375 \nL 213.629992 -49.40375 \nL 210.350653 -49.40375 \nL 207.071314 -49.40375 \nL 203.791975 -49.40375 \nL 200.512636 -49.40375 \nL 197.233298 -49.40375 \nL 193.953959 -49.40375 \nL 190.67462 -49.40375 \nL 187.395281 -49.40375 \nL 184.115942 -49.40375 \nL 180.836603 -49.40375 \nL 177.557264 -49.40375 \nL 174.277926 -49.40375 \nL 170.998587 -49.40375 \nL 167.719248 -49.40375 \nL 164.439909 -49.40375 \nL 161.16057 -49.40375 \nL 157.881231 -49.40375 \nL 154.601893 -49.40375 \nL 151.322554 -49.40375 \nL 148.043215 -49.40375 \nL 144.763876 -49.40375 \nL 141.484537 -49.40375 \nL 138.205198 -49.40375 \nL 134.92586 -49.40375 \nL 131.646521 -49.40375 \nL 128.367182 -49.40375 \nL 125.087843 -49.40375 \nL 121.808504 -49.40375 \nL 118.529165 -49.40375 \nL 115.249826 -49.40375 \nL 111.970488 -49.40375 \nL 108.691149 -49.40375 \nL 105.41181 -49.40375 \nL 102.132471 -49.40375 \nL 98.853132 -49.40375 \nL 95.573793 -49.40375 \nL 92.294455 -49.40375 \nL 89.015116 -49.40375 \nL 85.735777 -49.40375 \nL 82.456438 -49.40375 \nL 79.177099 -49.40375 \nL 75.89776 -49.40375 \nL 72.618421 -49.40375 \nL 69.339083 -49.40375 \nL 66.059744 -49.40375 \nL 62.780405 -49.40375 \nL 59.501066 -49.40375 \nL 56.221727 -49.40375 \nz\n\" style=\"stroke: #ffffff; stroke-opacity: 0.3; stroke-width: 0.8\"/>\n    </defs>\n    <g clip-path=\"url(#pbaace7b8fa)\">\n     <use xlink:href=\"#m90e0d51757\" x=\"0\" y=\"323.91425\" style=\"fill: #1f77b4; fill-opacity: 0.3; stroke: #ffffff; stroke-opacity: 0.3; stroke-width: 0.8\"/>\n    </g>\n   </g>\n   <g id=\"line2d_33\">\n    <path d=\"M 56.221727 274.5105 \nL 59.501066 270.427462 \nL 62.780405 266.344424 \nL 66.059744 262.261386 \nL 69.339083 258.178348 \nL 72.618421 254.09531 \nL 75.89776 250.012272 \nL 79.177099 245.929234 \nL 82.456438 241.846196 \nL 85.735777 237.763158 \nL 89.015116 233.68012 \nL 92.294455 229.597082 \nL 95.573793 225.514044 \nL 98.853132 221.431006 \nL 102.132471 217.347968 \nL 105.41181 213.26493 \nL 108.691149 209.181892 \nL 111.970488 205.098854 \nL 115.249826 201.015816 \nL 118.529165 196.932778 \nL 121.808504 192.849741 \nL 125.087843 188.766703 \nL 128.367182 184.683665 \nL 131.646521 180.600627 \nL 134.92586 176.517589 \nL 138.205198 172.434551 \nL 141.484537 168.351513 \nL 144.763876 164.268475 \nL 148.043215 160.185437 \nL 151.322554 156.102399 \nL 154.601893 152.019361 \nL 157.881231 147.936323 \nL 161.16057 143.853285 \nL 164.439909 139.770247 \nL 167.719248 135.687209 \nL 170.998587 131.604171 \nL 174.277926 127.521133 \nL 177.557264 123.438095 \nL 180.836603 119.355057 \nL 184.115942 115.272019 \nL 187.395281 113.2305 \nL 190.67462 114.251259 \nL 193.953959 115.272019 \nL 197.233298 116.292778 \nL 200.512636 117.313538 \nL 203.791975 118.334297 \nL 207.071314 119.355057 \nL 210.350653 120.375816 \nL 213.629992 121.396576 \nL 216.909331 122.417335 \nL 220.188669 123.438095 \nL 223.468008 124.458854 \nL 226.747347 125.479614 \nL 230.026686 126.500373 \nL 233.306025 127.521133 \nL 236.585364 128.541892 \nL 239.864702 129.562652 \nL 243.144041 130.583411 \nL 246.42338 131.604171 \nL 249.702719 132.62493 \nL 252.982058 32.5905 \nL 256.261397 33.611259 \nL 259.540736 34.632019 \nL 262.820074 35.652778 \nL 266.099413 36.673538 \nL 269.378752 37.694297 \nL 272.658091 38.715057 \nL 275.93743 39.735816 \nL 279.216769 40.756576 \nL 282.496107 41.777335 \nL 285.775446 42.798095 \nL 289.054785 43.818854 \nL 292.334124 44.839614 \nL 295.613463 45.860373 \nL 298.892802 46.881133 \nL 302.17214 47.901892 \nL 305.451479 48.922652 \nL 308.730818 49.943411 \nL 312.010157 50.964171 \nL 315.289496 51.98493 \nL 318.568835 53.00569 \nL 321.848174 54.026449 \nL 325.127512 55.047209 \nL 328.406851 56.067968 \nL 331.68619 57.088728 \nL 334.965529 58.109487 \nL 338.244868 59.130247 \nL 341.524207 60.151006 \nL 344.803545 61.171766 \nL 348.082884 62.192525 \nL 351.362223 63.213285 \nL 354.641562 64.234044 \nL 357.920901 65.254804 \nL 361.20024 66.275563 \nL 364.479579 67.296323 \nL 367.758917 68.317082 \nL 371.038256 69.337842 \nL 374.317595 70.358601 \nL 377.596934 71.379361 \nL 380.876273 72.40012 \n\" clip-path=\"url(#pbaace7b8fa)\" style=\"fill: none; stroke: #1f77b4; stroke-width: 1.2; stroke-linecap: round\"/>\n   </g>\n   <g id=\"patch_3\">\n    <path d=\"M 39.989 274.5105 \nL 39.989 38.715057 \n\" style=\"fill: none; stroke: #262626; stroke-linejoin: miter; stroke-linecap: square\"/>\n   </g>\n   <g id=\"patch_4\">\n    <path d=\"M 56.221727 286.6065 \nL 359.232636 286.6065 \n\" style=\"fill: none; stroke: #262626; stroke-linejoin: miter; stroke-linecap: square\"/>\n   </g>\n   <g id=\"text_19\">\n    <!-- Bending Moment Diagram -->\n    <g style=\"fill: #262626\" transform=\"translate(155.4995 14.4945) scale(0.096 -0.096)\">\n     <defs>\n      <path id=\"DejaVuSans-72\" d=\"M 2631 2963 \nQ 2534 3019 2420 3045 \nQ 2306 3072 2169 3072 \nQ 1681 3072 1420 2755 \nQ 1159 2438 1159 1844 \nL 1159 0 \nL 581 0 \nL 581 3500 \nL 1159 3500 \nL 1159 2956 \nQ 1341 3275 1631 3429 \nQ 1922 3584 2338 3584 \nQ 2397 3584 2469 3576 \nQ 2541 3569 2628 3553 \nL 2631 2963 \nz\n\" transform=\"scale(0.015625)\"/>\n     </defs>\n     <use xlink:href=\"#DejaVuSans-42\"/>\n     <use xlink:href=\"#DejaVuSans-65\" transform=\"translate(68.603516 0)\"/>\n     <use xlink:href=\"#DejaVuSans-6e\" transform=\"translate(130.126953 0)\"/>\n     <use xlink:href=\"#DejaVuSans-64\" transform=\"translate(193.505859 0)\"/>\n     <use xlink:href=\"#DejaVuSans-69\" transform=\"translate(256.982422 0)\"/>\n     <use xlink:href=\"#DejaVuSans-6e\" transform=\"translate(284.765625 0)\"/>\n     <use xlink:href=\"#DejaVuSans-67\" transform=\"translate(348.144531 0)\"/>\n     <use xlink:href=\"#DejaVuSans-20\" transform=\"translate(411.621094 0)\"/>\n     <use xlink:href=\"#DejaVuSans-4d\" transform=\"translate(443.408203 0)\"/>\n     <use xlink:href=\"#DejaVuSans-6f\" transform=\"translate(529.6875 0)\"/>\n     <use xlink:href=\"#DejaVuSans-6d\" transform=\"translate(590.869141 0)\"/>\n     <use xlink:href=\"#DejaVuSans-65\" transform=\"translate(688.28125 0)\"/>\n     <use xlink:href=\"#DejaVuSans-6e\" transform=\"translate(749.804688 0)\"/>\n     <use xlink:href=\"#DejaVuSans-74\" transform=\"translate(813.183594 0)\"/>\n     <use xlink:href=\"#DejaVuSans-20\" transform=\"translate(852.392578 0)\"/>\n     <use xlink:href=\"#DejaVuSans-44\" transform=\"translate(884.179688 0)\"/>\n     <use xlink:href=\"#DejaVuSans-69\" transform=\"translate(961.181641 0)\"/>\n     <use xlink:href=\"#DejaVuSans-61\" transform=\"translate(988.964844 0)\"/>\n     <use xlink:href=\"#DejaVuSans-67\" transform=\"translate(1050.244141 0)\"/>\n     <use xlink:href=\"#DejaVuSans-72\" transform=\"translate(1113.720703 0)\"/>\n     <use xlink:href=\"#DejaVuSans-61\" transform=\"translate(1154.833984 0)\"/>\n     <use xlink:href=\"#DejaVuSans-6d\" transform=\"translate(1216.113281 0)\"/>\n    </g>\n   </g>\n  </g>\n </g>\n <defs>\n  <clipPath id=\"pbaace7b8fa\">\n   <rect x=\"39.989\" y=\"20.4945\" width=\"357.12\" height=\"266.112\"/>\n  </clipPath>\n </defs>\n</svg>\n"
          },
          "metadata": {}
        }
      ],
      "source": [
        "# YOUR CODE HERE\n",
        "moment = np.zeros_like(x)\n",
        "\n",
        "for i, xi in enumerate(x):\n",
        "    if xi <= d_ab:\n",
        "        moment[i] = calc_M_ab(xi, A_y)\n",
        "    elif xi <= d_ab + d_bc:\n",
        "        moment[i] = calc_M_bc(xi, A_y, F_b, d_ab)\n",
        "    else:\n",
        "        moment[i] = calc_M_cd(xi, A_y, F_b, M_c, d_ab, d_bc)\n",
        "\n",
        "fig, ax = plt.subplots()\n",
        "ax.plot(x, moment)\n",
        "ax.fill_between(x, moment, 0, alpha=0.3)\n",
        "ax.set_xlabel('Distance (m)')\n",
        "ax.set_ylabel('Bending Moment (kN·m)')\n",
        "ax.set_title('Bending Moment Diagram')\n",
        "ax.grid(True)\n",
        "sns.despine(trim=True)\n",
        "plt.show()\n"
      ]
    }
  ],
  "metadata": {
    "kernelspec": {
      "display_name": "Python 3",
      "language": "python",
      "name": "python3"
    },
    "language_info": {
      "codemirror_mode": {
        "name": "ipython",
        "version": 3
      },
      "file_extension": ".py",
      "mimetype": "text/x-python",
      "name": "python",
      "nbconvert_exporter": "python",
      "pygments_lexer": "ipython3",
      "version": "3.11.4"
    },
    "colab": {
      "provenance": []
    }
  },
  "nbformat": 4,
  "nbformat_minor": 0
}